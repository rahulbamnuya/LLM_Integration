{
  "nbformat": 4,
  "nbformat_minor": 0,
  "metadata": {
    "colab": {
      "provenance": []
    },
    "kernelspec": {
      "name": "python3",
      "display_name": "Python 3"
    },
    "language_info": {
      "name": "python"
    }
  },
  "cells": [
    {
      "cell_type": "code",
      "execution_count": 26,
      "metadata": {
        "id": "EG974pbTlWL4",
        "colab": {
          "base_uri": "https://localhost:8080/",
          "height": 1000
        },
        "outputId": "011b104b-d720-40f2-954f-5e4364ac58b5",
        "collapsed": true
      },
      "outputs": [
        {
          "output_type": "stream",
          "name": "stdout",
          "text": [
            "Requirement already satisfied: pypdf in /usr/local/lib/python3.11/dist-packages (5.4.0)\n",
            "Requirement already satisfied: google-generativeai in /usr/local/lib/python3.11/dist-packages (0.8.5)\n",
            "Collecting google-ai-generativelanguage==0.6.15 (from google-generativeai)\n",
            "  Using cached google_ai_generativelanguage-0.6.15-py3-none-any.whl.metadata (5.7 kB)\n",
            "Requirement already satisfied: google-api-core in /usr/local/lib/python3.11/dist-packages (from google-generativeai) (2.24.2)\n",
            "Requirement already satisfied: google-api-python-client in /usr/local/lib/python3.11/dist-packages (from google-generativeai) (2.164.0)\n",
            "Requirement already satisfied: google-auth>=2.15.0 in /usr/local/lib/python3.11/dist-packages (from google-generativeai) (2.38.0)\n",
            "Requirement already satisfied: protobuf in /usr/local/lib/python3.11/dist-packages (from google-generativeai) (5.29.4)\n",
            "Requirement already satisfied: pydantic in /usr/local/lib/python3.11/dist-packages (from google-generativeai) (2.11.3)\n",
            "Requirement already satisfied: tqdm in /usr/local/lib/python3.11/dist-packages (from google-generativeai) (4.67.1)\n",
            "Requirement already satisfied: typing-extensions in /usr/local/lib/python3.11/dist-packages (from google-generativeai) (4.13.2)\n",
            "Requirement already satisfied: proto-plus<2.0.0dev,>=1.22.3 in /usr/local/lib/python3.11/dist-packages (from google-ai-generativelanguage==0.6.15->google-generativeai) (1.26.1)\n",
            "Requirement already satisfied: googleapis-common-protos<2.0.0,>=1.56.2 in /usr/local/lib/python3.11/dist-packages (from google-api-core->google-generativeai) (1.70.0)\n",
            "Requirement already satisfied: requests<3.0.0,>=2.18.0 in /usr/local/lib/python3.11/dist-packages (from google-api-core->google-generativeai) (2.32.3)\n",
            "Requirement already satisfied: cachetools<6.0,>=2.0.0 in /usr/local/lib/python3.11/dist-packages (from google-auth>=2.15.0->google-generativeai) (5.5.2)\n",
            "Requirement already satisfied: pyasn1-modules>=0.2.1 in /usr/local/lib/python3.11/dist-packages (from google-auth>=2.15.0->google-generativeai) (0.4.2)\n",
            "Requirement already satisfied: rsa<5,>=3.1.4 in /usr/local/lib/python3.11/dist-packages (from google-auth>=2.15.0->google-generativeai) (4.9.1)\n",
            "Requirement already satisfied: httplib2<1.dev0,>=0.19.0 in /usr/local/lib/python3.11/dist-packages (from google-api-python-client->google-generativeai) (0.22.0)\n",
            "Requirement already satisfied: google-auth-httplib2<1.0.0,>=0.2.0 in /usr/local/lib/python3.11/dist-packages (from google-api-python-client->google-generativeai) (0.2.0)\n",
            "Requirement already satisfied: uritemplate<5,>=3.0.1 in /usr/local/lib/python3.11/dist-packages (from google-api-python-client->google-generativeai) (4.1.1)\n",
            "Requirement already satisfied: annotated-types>=0.6.0 in /usr/local/lib/python3.11/dist-packages (from pydantic->google-generativeai) (0.7.0)\n",
            "Requirement already satisfied: pydantic-core==2.33.1 in /usr/local/lib/python3.11/dist-packages (from pydantic->google-generativeai) (2.33.1)\n",
            "Requirement already satisfied: typing-inspection>=0.4.0 in /usr/local/lib/python3.11/dist-packages (from pydantic->google-generativeai) (0.4.0)\n",
            "Requirement already satisfied: grpcio<2.0dev,>=1.33.2 in /usr/local/lib/python3.11/dist-packages (from google-api-core[grpc]!=2.0.*,!=2.1.*,!=2.10.*,!=2.2.*,!=2.3.*,!=2.4.*,!=2.5.*,!=2.6.*,!=2.7.*,!=2.8.*,!=2.9.*,<3.0.0dev,>=1.34.1->google-ai-generativelanguage==0.6.15->google-generativeai) (1.71.0)\n",
            "Requirement already satisfied: grpcio-status<2.0.dev0,>=1.33.2 in /usr/local/lib/python3.11/dist-packages (from google-api-core[grpc]!=2.0.*,!=2.1.*,!=2.10.*,!=2.2.*,!=2.3.*,!=2.4.*,!=2.5.*,!=2.6.*,!=2.7.*,!=2.8.*,!=2.9.*,<3.0.0dev,>=1.34.1->google-ai-generativelanguage==0.6.15->google-generativeai) (1.71.0)\n",
            "Requirement already satisfied: pyparsing!=3.0.0,!=3.0.1,!=3.0.2,!=3.0.3,<4,>=2.4.2 in /usr/local/lib/python3.11/dist-packages (from httplib2<1.dev0,>=0.19.0->google-api-python-client->google-generativeai) (3.2.3)\n",
            "Requirement already satisfied: pyasn1<0.7.0,>=0.6.1 in /usr/local/lib/python3.11/dist-packages (from pyasn1-modules>=0.2.1->google-auth>=2.15.0->google-generativeai) (0.6.1)\n",
            "Requirement already satisfied: charset-normalizer<4,>=2 in /usr/local/lib/python3.11/dist-packages (from requests<3.0.0,>=2.18.0->google-api-core->google-generativeai) (3.4.1)\n",
            "Requirement already satisfied: idna<4,>=2.5 in /usr/local/lib/python3.11/dist-packages (from requests<3.0.0,>=2.18.0->google-api-core->google-generativeai) (3.10)\n",
            "Requirement already satisfied: urllib3<3,>=1.21.1 in /usr/local/lib/python3.11/dist-packages (from requests<3.0.0,>=2.18.0->google-api-core->google-generativeai) (2.3.0)\n",
            "Requirement already satisfied: certifi>=2017.4.17 in /usr/local/lib/python3.11/dist-packages (from requests<3.0.0,>=2.18.0->google-api-core->google-generativeai) (2025.1.31)\n",
            "Using cached google_ai_generativelanguage-0.6.15-py3-none-any.whl (1.3 MB)\n",
            "Installing collected packages: google-ai-generativelanguage\n",
            "  Attempting uninstall: google-ai-generativelanguage\n",
            "    Found existing installation: google-ai-generativelanguage 0.6.17\n",
            "    Uninstalling google-ai-generativelanguage-0.6.17:\n",
            "      Successfully uninstalled google-ai-generativelanguage-0.6.17\n",
            "\u001b[31mERROR: pip's dependency resolver does not currently take into account all the packages that are installed. This behaviour is the source of the following dependency conflicts.\n",
            "langchain-google-genai 2.1.3 requires google-ai-generativelanguage<0.7.0,>=0.6.16, but you have google-ai-generativelanguage 0.6.15 which is incompatible.\u001b[0m\u001b[31m\n",
            "\u001b[0mSuccessfully installed google-ai-generativelanguage-0.6.15\n"
          ]
        },
        {
          "output_type": "display_data",
          "data": {
            "application/vnd.colab-display-data+json": {
              "pip_warning": {
                "packages": [
                  "google"
                ]
              },
              "id": "f9effb479bbe4c69b0690e79cd898331"
            }
          },
          "metadata": {}
        },
        {
          "output_type": "stream",
          "name": "stdout",
          "text": [
            "Requirement already satisfied: langchain-google-genai in /usr/local/lib/python3.11/dist-packages (2.1.3)\n",
            "Requirement already satisfied: filetype<2.0.0,>=1.2.0 in /usr/local/lib/python3.11/dist-packages (from langchain-google-genai) (1.2.0)\n",
            "Collecting google-ai-generativelanguage<0.7.0,>=0.6.16 (from langchain-google-genai)\n",
            "  Using cached google_ai_generativelanguage-0.6.17-py3-none-any.whl.metadata (9.8 kB)\n",
            "Requirement already satisfied: langchain-core<0.4.0,>=0.3.52 in /usr/local/lib/python3.11/dist-packages (from langchain-google-genai) (0.3.55)\n",
            "Requirement already satisfied: pydantic<3,>=2 in /usr/local/lib/python3.11/dist-packages (from langchain-google-genai) (2.11.3)\n",
            "Requirement already satisfied: google-api-core!=2.0.*,!=2.1.*,!=2.10.*,!=2.2.*,!=2.3.*,!=2.4.*,!=2.5.*,!=2.6.*,!=2.7.*,!=2.8.*,!=2.9.*,<3.0.0,>=1.34.1 in /usr/local/lib/python3.11/dist-packages (from google-api-core[grpc]!=2.0.*,!=2.1.*,!=2.10.*,!=2.2.*,!=2.3.*,!=2.4.*,!=2.5.*,!=2.6.*,!=2.7.*,!=2.8.*,!=2.9.*,<3.0.0,>=1.34.1->google-ai-generativelanguage<0.7.0,>=0.6.16->langchain-google-genai) (2.24.2)\n",
            "Requirement already satisfied: google-auth!=2.24.0,!=2.25.0,<3.0.0,>=2.14.1 in /usr/local/lib/python3.11/dist-packages (from google-ai-generativelanguage<0.7.0,>=0.6.16->langchain-google-genai) (2.38.0)\n",
            "Requirement already satisfied: proto-plus<2.0.0,>=1.22.3 in /usr/local/lib/python3.11/dist-packages (from google-ai-generativelanguage<0.7.0,>=0.6.16->langchain-google-genai) (1.26.1)\n",
            "Requirement already satisfied: protobuf!=4.21.0,!=4.21.1,!=4.21.2,!=4.21.3,!=4.21.4,!=4.21.5,<7.0.0,>=3.20.2 in /usr/local/lib/python3.11/dist-packages (from google-ai-generativelanguage<0.7.0,>=0.6.16->langchain-google-genai) (5.29.4)\n",
            "Requirement already satisfied: langsmith<0.4,>=0.1.125 in /usr/local/lib/python3.11/dist-packages (from langchain-core<0.4.0,>=0.3.52->langchain-google-genai) (0.3.33)\n",
            "Requirement already satisfied: tenacity!=8.4.0,<10.0.0,>=8.1.0 in /usr/local/lib/python3.11/dist-packages (from langchain-core<0.4.0,>=0.3.52->langchain-google-genai) (9.1.2)\n",
            "Requirement already satisfied: jsonpatch<2.0,>=1.33 in /usr/local/lib/python3.11/dist-packages (from langchain-core<0.4.0,>=0.3.52->langchain-google-genai) (1.33)\n",
            "Requirement already satisfied: PyYAML>=5.3 in /usr/local/lib/python3.11/dist-packages (from langchain-core<0.4.0,>=0.3.52->langchain-google-genai) (6.0.2)\n",
            "Requirement already satisfied: packaging<25,>=23.2 in /usr/local/lib/python3.11/dist-packages (from langchain-core<0.4.0,>=0.3.52->langchain-google-genai) (24.2)\n",
            "Requirement already satisfied: typing-extensions>=4.7 in /usr/local/lib/python3.11/dist-packages (from langchain-core<0.4.0,>=0.3.52->langchain-google-genai) (4.13.2)\n",
            "Requirement already satisfied: annotated-types>=0.6.0 in /usr/local/lib/python3.11/dist-packages (from pydantic<3,>=2->langchain-google-genai) (0.7.0)\n",
            "Requirement already satisfied: pydantic-core==2.33.1 in /usr/local/lib/python3.11/dist-packages (from pydantic<3,>=2->langchain-google-genai) (2.33.1)\n",
            "Requirement already satisfied: typing-inspection>=0.4.0 in /usr/local/lib/python3.11/dist-packages (from pydantic<3,>=2->langchain-google-genai) (0.4.0)\n",
            "Requirement already satisfied: googleapis-common-protos<2.0.0,>=1.56.2 in /usr/local/lib/python3.11/dist-packages (from google-api-core!=2.0.*,!=2.1.*,!=2.10.*,!=2.2.*,!=2.3.*,!=2.4.*,!=2.5.*,!=2.6.*,!=2.7.*,!=2.8.*,!=2.9.*,<3.0.0,>=1.34.1->google-api-core[grpc]!=2.0.*,!=2.1.*,!=2.10.*,!=2.2.*,!=2.3.*,!=2.4.*,!=2.5.*,!=2.6.*,!=2.7.*,!=2.8.*,!=2.9.*,<3.0.0,>=1.34.1->google-ai-generativelanguage<0.7.0,>=0.6.16->langchain-google-genai) (1.70.0)\n",
            "Requirement already satisfied: requests<3.0.0,>=2.18.0 in /usr/local/lib/python3.11/dist-packages (from google-api-core!=2.0.*,!=2.1.*,!=2.10.*,!=2.2.*,!=2.3.*,!=2.4.*,!=2.5.*,!=2.6.*,!=2.7.*,!=2.8.*,!=2.9.*,<3.0.0,>=1.34.1->google-api-core[grpc]!=2.0.*,!=2.1.*,!=2.10.*,!=2.2.*,!=2.3.*,!=2.4.*,!=2.5.*,!=2.6.*,!=2.7.*,!=2.8.*,!=2.9.*,<3.0.0,>=1.34.1->google-ai-generativelanguage<0.7.0,>=0.6.16->langchain-google-genai) (2.32.3)\n",
            "Requirement already satisfied: grpcio<2.0dev,>=1.33.2 in /usr/local/lib/python3.11/dist-packages (from google-api-core[grpc]!=2.0.*,!=2.1.*,!=2.10.*,!=2.2.*,!=2.3.*,!=2.4.*,!=2.5.*,!=2.6.*,!=2.7.*,!=2.8.*,!=2.9.*,<3.0.0,>=1.34.1->google-ai-generativelanguage<0.7.0,>=0.6.16->langchain-google-genai) (1.71.0)\n",
            "Requirement already satisfied: grpcio-status<2.0.dev0,>=1.33.2 in /usr/local/lib/python3.11/dist-packages (from google-api-core[grpc]!=2.0.*,!=2.1.*,!=2.10.*,!=2.2.*,!=2.3.*,!=2.4.*,!=2.5.*,!=2.6.*,!=2.7.*,!=2.8.*,!=2.9.*,<3.0.0,>=1.34.1->google-ai-generativelanguage<0.7.0,>=0.6.16->langchain-google-genai) (1.71.0)\n",
            "Requirement already satisfied: cachetools<6.0,>=2.0.0 in /usr/local/lib/python3.11/dist-packages (from google-auth!=2.24.0,!=2.25.0,<3.0.0,>=2.14.1->google-ai-generativelanguage<0.7.0,>=0.6.16->langchain-google-genai) (5.5.2)\n",
            "Requirement already satisfied: pyasn1-modules>=0.2.1 in /usr/local/lib/python3.11/dist-packages (from google-auth!=2.24.0,!=2.25.0,<3.0.0,>=2.14.1->google-ai-generativelanguage<0.7.0,>=0.6.16->langchain-google-genai) (0.4.2)\n",
            "Requirement already satisfied: rsa<5,>=3.1.4 in /usr/local/lib/python3.11/dist-packages (from google-auth!=2.24.0,!=2.25.0,<3.0.0,>=2.14.1->google-ai-generativelanguage<0.7.0,>=0.6.16->langchain-google-genai) (4.9.1)\n",
            "Requirement already satisfied: jsonpointer>=1.9 in /usr/local/lib/python3.11/dist-packages (from jsonpatch<2.0,>=1.33->langchain-core<0.4.0,>=0.3.52->langchain-google-genai) (3.0.0)\n",
            "Requirement already satisfied: httpx<1,>=0.23.0 in /usr/local/lib/python3.11/dist-packages (from langsmith<0.4,>=0.1.125->langchain-core<0.4.0,>=0.3.52->langchain-google-genai) (0.28.1)\n",
            "Requirement already satisfied: orjson<4.0.0,>=3.9.14 in /usr/local/lib/python3.11/dist-packages (from langsmith<0.4,>=0.1.125->langchain-core<0.4.0,>=0.3.52->langchain-google-genai) (3.10.16)\n",
            "Requirement already satisfied: requests-toolbelt<2.0.0,>=1.0.0 in /usr/local/lib/python3.11/dist-packages (from langsmith<0.4,>=0.1.125->langchain-core<0.4.0,>=0.3.52->langchain-google-genai) (1.0.0)\n",
            "Requirement already satisfied: zstandard<0.24.0,>=0.23.0 in /usr/local/lib/python3.11/dist-packages (from langsmith<0.4,>=0.1.125->langchain-core<0.4.0,>=0.3.52->langchain-google-genai) (0.23.0)\n",
            "Requirement already satisfied: anyio in /usr/local/lib/python3.11/dist-packages (from httpx<1,>=0.23.0->langsmith<0.4,>=0.1.125->langchain-core<0.4.0,>=0.3.52->langchain-google-genai) (4.9.0)\n",
            "Requirement already satisfied: certifi in /usr/local/lib/python3.11/dist-packages (from httpx<1,>=0.23.0->langsmith<0.4,>=0.1.125->langchain-core<0.4.0,>=0.3.52->langchain-google-genai) (2025.1.31)\n",
            "Requirement already satisfied: httpcore==1.* in /usr/local/lib/python3.11/dist-packages (from httpx<1,>=0.23.0->langsmith<0.4,>=0.1.125->langchain-core<0.4.0,>=0.3.52->langchain-google-genai) (1.0.8)\n",
            "Requirement already satisfied: idna in /usr/local/lib/python3.11/dist-packages (from httpx<1,>=0.23.0->langsmith<0.4,>=0.1.125->langchain-core<0.4.0,>=0.3.52->langchain-google-genai) (3.10)\n",
            "Requirement already satisfied: h11<0.15,>=0.13 in /usr/local/lib/python3.11/dist-packages (from httpcore==1.*->httpx<1,>=0.23.0->langsmith<0.4,>=0.1.125->langchain-core<0.4.0,>=0.3.52->langchain-google-genai) (0.14.0)\n",
            "Requirement already satisfied: pyasn1<0.7.0,>=0.6.1 in /usr/local/lib/python3.11/dist-packages (from pyasn1-modules>=0.2.1->google-auth!=2.24.0,!=2.25.0,<3.0.0,>=2.14.1->google-ai-generativelanguage<0.7.0,>=0.6.16->langchain-google-genai) (0.6.1)\n",
            "Requirement already satisfied: charset-normalizer<4,>=2 in /usr/local/lib/python3.11/dist-packages (from requests<3.0.0,>=2.18.0->google-api-core!=2.0.*,!=2.1.*,!=2.10.*,!=2.2.*,!=2.3.*,!=2.4.*,!=2.5.*,!=2.6.*,!=2.7.*,!=2.8.*,!=2.9.*,<3.0.0,>=1.34.1->google-api-core[grpc]!=2.0.*,!=2.1.*,!=2.10.*,!=2.2.*,!=2.3.*,!=2.4.*,!=2.5.*,!=2.6.*,!=2.7.*,!=2.8.*,!=2.9.*,<3.0.0,>=1.34.1->google-ai-generativelanguage<0.7.0,>=0.6.16->langchain-google-genai) (3.4.1)\n",
            "Requirement already satisfied: urllib3<3,>=1.21.1 in /usr/local/lib/python3.11/dist-packages (from requests<3.0.0,>=2.18.0->google-api-core!=2.0.*,!=2.1.*,!=2.10.*,!=2.2.*,!=2.3.*,!=2.4.*,!=2.5.*,!=2.6.*,!=2.7.*,!=2.8.*,!=2.9.*,<3.0.0,>=1.34.1->google-api-core[grpc]!=2.0.*,!=2.1.*,!=2.10.*,!=2.2.*,!=2.3.*,!=2.4.*,!=2.5.*,!=2.6.*,!=2.7.*,!=2.8.*,!=2.9.*,<3.0.0,>=1.34.1->google-ai-generativelanguage<0.7.0,>=0.6.16->langchain-google-genai) (2.3.0)\n",
            "Requirement already satisfied: sniffio>=1.1 in /usr/local/lib/python3.11/dist-packages (from anyio->httpx<1,>=0.23.0->langsmith<0.4,>=0.1.125->langchain-core<0.4.0,>=0.3.52->langchain-google-genai) (1.3.1)\n",
            "Using cached google_ai_generativelanguage-0.6.17-py3-none-any.whl (1.4 MB)\n",
            "Installing collected packages: google-ai-generativelanguage\n",
            "  Attempting uninstall: google-ai-generativelanguage\n",
            "    Found existing installation: google-ai-generativelanguage 0.6.15\n",
            "    Uninstalling google-ai-generativelanguage-0.6.15:\n",
            "      Successfully uninstalled google-ai-generativelanguage-0.6.15\n",
            "\u001b[31mERROR: pip's dependency resolver does not currently take into account all the packages that are installed. This behaviour is the source of the following dependency conflicts.\n",
            "google-generativeai 0.8.5 requires google-ai-generativelanguage==0.6.15, but you have google-ai-generativelanguage 0.6.17 which is incompatible.\u001b[0m\u001b[31m\n",
            "\u001b[0mSuccessfully installed google-ai-generativelanguage-0.6.17\n"
          ]
        },
        {
          "output_type": "display_data",
          "data": {
            "application/vnd.colab-display-data+json": {
              "pip_warning": {
                "packages": [
                  "google"
                ]
              },
              "id": "3688bd1356e942cfb9f29c750f9a7540"
            }
          },
          "metadata": {}
        },
        {
          "output_type": "stream",
          "name": "stdout",
          "text": [
            "Requirement already satisfied: langchain in /usr/local/lib/python3.11/dist-packages (0.3.24)\n",
            "Requirement already satisfied: unstructured in /usr/local/lib/python3.11/dist-packages (0.17.2)\n",
            "Requirement already satisfied: requests in /usr/local/lib/python3.11/dist-packages (2.32.3)\n",
            "Requirement already satisfied: beautifulsoup4 in /usr/local/lib/python3.11/dist-packages (4.13.4)\n",
            "Requirement already satisfied: langchain-core<1.0.0,>=0.3.55 in /usr/local/lib/python3.11/dist-packages (from langchain) (0.3.55)\n",
            "Requirement already satisfied: langchain-text-splitters<1.0.0,>=0.3.8 in /usr/local/lib/python3.11/dist-packages (from langchain) (0.3.8)\n",
            "Requirement already satisfied: langsmith<0.4,>=0.1.17 in /usr/local/lib/python3.11/dist-packages (from langchain) (0.3.33)\n",
            "Requirement already satisfied: pydantic<3.0.0,>=2.7.4 in /usr/local/lib/python3.11/dist-packages (from langchain) (2.11.3)\n",
            "Requirement already satisfied: SQLAlchemy<3,>=1.4 in /usr/local/lib/python3.11/dist-packages (from langchain) (2.0.40)\n",
            "Requirement already satisfied: PyYAML>=5.3 in /usr/local/lib/python3.11/dist-packages (from langchain) (6.0.2)\n",
            "Requirement already satisfied: chardet in /usr/local/lib/python3.11/dist-packages (from unstructured) (5.2.0)\n",
            "Requirement already satisfied: filetype in /usr/local/lib/python3.11/dist-packages (from unstructured) (1.2.0)\n",
            "Requirement already satisfied: python-magic in /usr/local/lib/python3.11/dist-packages (from unstructured) (0.4.27)\n",
            "Requirement already satisfied: lxml in /usr/local/lib/python3.11/dist-packages (from unstructured) (5.3.2)\n",
            "Requirement already satisfied: nltk in /usr/local/lib/python3.11/dist-packages (from unstructured) (3.9.1)\n",
            "Requirement already satisfied: emoji in /usr/local/lib/python3.11/dist-packages (from unstructured) (2.14.1)\n",
            "Requirement already satisfied: dataclasses-json in /usr/local/lib/python3.11/dist-packages (from unstructured) (0.6.7)\n",
            "Requirement already satisfied: python-iso639 in /usr/local/lib/python3.11/dist-packages (from unstructured) (2025.2.18)\n",
            "Requirement already satisfied: langdetect in /usr/local/lib/python3.11/dist-packages (from unstructured) (1.0.9)\n",
            "Requirement already satisfied: numpy in /usr/local/lib/python3.11/dist-packages (from unstructured) (2.0.2)\n",
            "Requirement already satisfied: rapidfuzz in /usr/local/lib/python3.11/dist-packages (from unstructured) (3.13.0)\n",
            "Requirement already satisfied: backoff in /usr/local/lib/python3.11/dist-packages (from unstructured) (2.2.1)\n",
            "Requirement already satisfied: typing-extensions in /usr/local/lib/python3.11/dist-packages (from unstructured) (4.13.2)\n",
            "Requirement already satisfied: unstructured-client in /usr/local/lib/python3.11/dist-packages (from unstructured) (0.34.0)\n",
            "Requirement already satisfied: wrapt in /usr/local/lib/python3.11/dist-packages (from unstructured) (1.17.2)\n",
            "Requirement already satisfied: tqdm in /usr/local/lib/python3.11/dist-packages (from unstructured) (4.67.1)\n",
            "Requirement already satisfied: psutil in /usr/local/lib/python3.11/dist-packages (from unstructured) (5.9.5)\n",
            "Requirement already satisfied: python-oxmsg in /usr/local/lib/python3.11/dist-packages (from unstructured) (0.0.2)\n",
            "Requirement already satisfied: html5lib in /usr/local/lib/python3.11/dist-packages (from unstructured) (1.1)\n",
            "Requirement already satisfied: charset-normalizer<4,>=2 in /usr/local/lib/python3.11/dist-packages (from requests) (3.4.1)\n",
            "Requirement already satisfied: idna<4,>=2.5 in /usr/local/lib/python3.11/dist-packages (from requests) (3.10)\n",
            "Requirement already satisfied: urllib3<3,>=1.21.1 in /usr/local/lib/python3.11/dist-packages (from requests) (2.3.0)\n",
            "Requirement already satisfied: certifi>=2017.4.17 in /usr/local/lib/python3.11/dist-packages (from requests) (2025.1.31)\n",
            "Requirement already satisfied: soupsieve>1.2 in /usr/local/lib/python3.11/dist-packages (from beautifulsoup4) (2.7)\n",
            "Requirement already satisfied: tenacity!=8.4.0,<10.0.0,>=8.1.0 in /usr/local/lib/python3.11/dist-packages (from langchain-core<1.0.0,>=0.3.55->langchain) (9.1.2)\n",
            "Requirement already satisfied: jsonpatch<2.0,>=1.33 in /usr/local/lib/python3.11/dist-packages (from langchain-core<1.0.0,>=0.3.55->langchain) (1.33)\n",
            "Requirement already satisfied: packaging<25,>=23.2 in /usr/local/lib/python3.11/dist-packages (from langchain-core<1.0.0,>=0.3.55->langchain) (24.2)\n",
            "Requirement already satisfied: httpx<1,>=0.23.0 in /usr/local/lib/python3.11/dist-packages (from langsmith<0.4,>=0.1.17->langchain) (0.28.1)\n",
            "Requirement already satisfied: orjson<4.0.0,>=3.9.14 in /usr/local/lib/python3.11/dist-packages (from langsmith<0.4,>=0.1.17->langchain) (3.10.16)\n",
            "Requirement already satisfied: requests-toolbelt<2.0.0,>=1.0.0 in /usr/local/lib/python3.11/dist-packages (from langsmith<0.4,>=0.1.17->langchain) (1.0.0)\n",
            "Requirement already satisfied: zstandard<0.24.0,>=0.23.0 in /usr/local/lib/python3.11/dist-packages (from langsmith<0.4,>=0.1.17->langchain) (0.23.0)\n",
            "Requirement already satisfied: annotated-types>=0.6.0 in /usr/local/lib/python3.11/dist-packages (from pydantic<3.0.0,>=2.7.4->langchain) (0.7.0)\n",
            "Requirement already satisfied: pydantic-core==2.33.1 in /usr/local/lib/python3.11/dist-packages (from pydantic<3.0.0,>=2.7.4->langchain) (2.33.1)\n",
            "Requirement already satisfied: typing-inspection>=0.4.0 in /usr/local/lib/python3.11/dist-packages (from pydantic<3.0.0,>=2.7.4->langchain) (0.4.0)\n",
            "Requirement already satisfied: greenlet>=1 in /usr/local/lib/python3.11/dist-packages (from SQLAlchemy<3,>=1.4->langchain) (3.2.1)\n",
            "Requirement already satisfied: marshmallow<4.0.0,>=3.18.0 in /usr/local/lib/python3.11/dist-packages (from dataclasses-json->unstructured) (3.26.1)\n",
            "Requirement already satisfied: typing-inspect<1,>=0.4.0 in /usr/local/lib/python3.11/dist-packages (from dataclasses-json->unstructured) (0.9.0)\n",
            "Requirement already satisfied: six>=1.9 in /usr/local/lib/python3.11/dist-packages (from html5lib->unstructured) (1.17.0)\n",
            "Requirement already satisfied: webencodings in /usr/local/lib/python3.11/dist-packages (from html5lib->unstructured) (0.5.1)\n",
            "Requirement already satisfied: click in /usr/local/lib/python3.11/dist-packages (from nltk->unstructured) (8.1.8)\n",
            "Requirement already satisfied: joblib in /usr/local/lib/python3.11/dist-packages (from nltk->unstructured) (1.4.2)\n",
            "Requirement already satisfied: regex>=2021.8.3 in /usr/local/lib/python3.11/dist-packages (from nltk->unstructured) (2024.11.6)\n",
            "Requirement already satisfied: olefile in /usr/local/lib/python3.11/dist-packages (from python-oxmsg->unstructured) (0.47)\n",
            "Requirement already satisfied: aiofiles>=24.1.0 in /usr/local/lib/python3.11/dist-packages (from unstructured-client->unstructured) (24.1.0)\n",
            "Requirement already satisfied: cryptography>=3.1 in /usr/local/lib/python3.11/dist-packages (from unstructured-client->unstructured) (43.0.3)\n",
            "Requirement already satisfied: eval-type-backport>=0.2.0 in /usr/local/lib/python3.11/dist-packages (from unstructured-client->unstructured) (0.2.2)\n",
            "Requirement already satisfied: nest-asyncio>=1.6.0 in /usr/local/lib/python3.11/dist-packages (from unstructured-client->unstructured) (1.6.0)\n",
            "Requirement already satisfied: pypdf>=4.0 in /usr/local/lib/python3.11/dist-packages (from unstructured-client->unstructured) (5.4.0)\n",
            "Requirement already satisfied: cffi>=1.12 in /usr/local/lib/python3.11/dist-packages (from cryptography>=3.1->unstructured-client->unstructured) (1.17.1)\n",
            "Requirement already satisfied: anyio in /usr/local/lib/python3.11/dist-packages (from httpx<1,>=0.23.0->langsmith<0.4,>=0.1.17->langchain) (4.9.0)\n",
            "Requirement already satisfied: httpcore==1.* in /usr/local/lib/python3.11/dist-packages (from httpx<1,>=0.23.0->langsmith<0.4,>=0.1.17->langchain) (1.0.8)\n",
            "Requirement already satisfied: h11<0.15,>=0.13 in /usr/local/lib/python3.11/dist-packages (from httpcore==1.*->httpx<1,>=0.23.0->langsmith<0.4,>=0.1.17->langchain) (0.14.0)\n",
            "Requirement already satisfied: jsonpointer>=1.9 in /usr/local/lib/python3.11/dist-packages (from jsonpatch<2.0,>=1.33->langchain-core<1.0.0,>=0.3.55->langchain) (3.0.0)\n",
            "Requirement already satisfied: mypy-extensions>=0.3.0 in /usr/local/lib/python3.11/dist-packages (from typing-inspect<1,>=0.4.0->dataclasses-json->unstructured) (1.1.0)\n",
            "Requirement already satisfied: pycparser in /usr/local/lib/python3.11/dist-packages (from cffi>=1.12->cryptography>=3.1->unstructured-client->unstructured) (2.22)\n",
            "Requirement already satisfied: sniffio>=1.1 in /usr/local/lib/python3.11/dist-packages (from anyio->httpx<1,>=0.23.0->langsmith<0.4,>=0.1.17->langchain) (1.3.1)\n",
            "Requirement already satisfied: chromadb in /usr/local/lib/python3.11/dist-packages (1.0.7)\n",
            "Requirement already satisfied: build>=1.0.3 in /usr/local/lib/python3.11/dist-packages (from chromadb) (1.2.2.post1)\n",
            "Requirement already satisfied: pydantic>=1.9 in /usr/local/lib/python3.11/dist-packages (from chromadb) (2.11.3)\n",
            "Requirement already satisfied: chroma-hnswlib==0.7.6 in /usr/local/lib/python3.11/dist-packages (from chromadb) (0.7.6)\n",
            "Requirement already satisfied: fastapi==0.115.9 in /usr/local/lib/python3.11/dist-packages (from chromadb) (0.115.9)\n",
            "Requirement already satisfied: uvicorn>=0.18.3 in /usr/local/lib/python3.11/dist-packages (from uvicorn[standard]>=0.18.3->chromadb) (0.34.2)\n",
            "Requirement already satisfied: numpy>=1.22.5 in /usr/local/lib/python3.11/dist-packages (from chromadb) (2.0.2)\n",
            "Requirement already satisfied: posthog>=2.4.0 in /usr/local/lib/python3.11/dist-packages (from chromadb) (4.0.0)\n",
            "Requirement already satisfied: typing-extensions>=4.5.0 in /usr/local/lib/python3.11/dist-packages (from chromadb) (4.13.2)\n",
            "Requirement already satisfied: onnxruntime>=1.14.1 in /usr/local/lib/python3.11/dist-packages (from chromadb) (1.21.1)\n",
            "Requirement already satisfied: opentelemetry-api>=1.2.0 in /usr/local/lib/python3.11/dist-packages (from chromadb) (1.32.1)\n",
            "Requirement already satisfied: opentelemetry-exporter-otlp-proto-grpc>=1.2.0 in /usr/local/lib/python3.11/dist-packages (from chromadb) (1.32.1)\n",
            "Requirement already satisfied: opentelemetry-instrumentation-fastapi>=0.41b0 in /usr/local/lib/python3.11/dist-packages (from chromadb) (0.53b1)\n",
            "Requirement already satisfied: opentelemetry-sdk>=1.2.0 in /usr/local/lib/python3.11/dist-packages (from chromadb) (1.32.1)\n",
            "Requirement already satisfied: tokenizers>=0.13.2 in /usr/local/lib/python3.11/dist-packages (from chromadb) (0.21.1)\n",
            "Requirement already satisfied: pypika>=0.48.9 in /usr/local/lib/python3.11/dist-packages (from chromadb) (0.48.9)\n",
            "Requirement already satisfied: tqdm>=4.65.0 in /usr/local/lib/python3.11/dist-packages (from chromadb) (4.67.1)\n",
            "Requirement already satisfied: overrides>=7.3.1 in /usr/local/lib/python3.11/dist-packages (from chromadb) (7.7.0)\n",
            "Requirement already satisfied: importlib-resources in /usr/local/lib/python3.11/dist-packages (from chromadb) (6.5.2)\n",
            "Requirement already satisfied: grpcio>=1.58.0 in /usr/local/lib/python3.11/dist-packages (from chromadb) (1.71.0)\n",
            "Requirement already satisfied: bcrypt>=4.0.1 in /usr/local/lib/python3.11/dist-packages (from chromadb) (4.3.0)\n",
            "Requirement already satisfied: typer>=0.9.0 in /usr/local/lib/python3.11/dist-packages (from chromadb) (0.15.2)\n",
            "Requirement already satisfied: kubernetes>=28.1.0 in /usr/local/lib/python3.11/dist-packages (from chromadb) (32.0.1)\n",
            "Requirement already satisfied: tenacity>=8.2.3 in /usr/local/lib/python3.11/dist-packages (from chromadb) (9.1.2)\n",
            "Requirement already satisfied: pyyaml>=6.0.0 in /usr/local/lib/python3.11/dist-packages (from chromadb) (6.0.2)\n",
            "Requirement already satisfied: mmh3>=4.0.1 in /usr/local/lib/python3.11/dist-packages (from chromadb) (5.1.0)\n",
            "Requirement already satisfied: orjson>=3.9.12 in /usr/local/lib/python3.11/dist-packages (from chromadb) (3.10.16)\n",
            "Requirement already satisfied: httpx>=0.27.0 in /usr/local/lib/python3.11/dist-packages (from chromadb) (0.28.1)\n",
            "Requirement already satisfied: rich>=10.11.0 in /usr/local/lib/python3.11/dist-packages (from chromadb) (13.9.4)\n",
            "Requirement already satisfied: jsonschema>=4.19.0 in /usr/local/lib/python3.11/dist-packages (from chromadb) (4.23.0)\n",
            "Requirement already satisfied: starlette<0.46.0,>=0.40.0 in /usr/local/lib/python3.11/dist-packages (from fastapi==0.115.9->chromadb) (0.45.3)\n",
            "Requirement already satisfied: packaging>=19.1 in /usr/local/lib/python3.11/dist-packages (from build>=1.0.3->chromadb) (24.2)\n",
            "Requirement already satisfied: pyproject_hooks in /usr/local/lib/python3.11/dist-packages (from build>=1.0.3->chromadb) (1.2.0)\n",
            "Requirement already satisfied: anyio in /usr/local/lib/python3.11/dist-packages (from httpx>=0.27.0->chromadb) (4.9.0)\n",
            "Requirement already satisfied: certifi in /usr/local/lib/python3.11/dist-packages (from httpx>=0.27.0->chromadb) (2025.1.31)\n",
            "Requirement already satisfied: httpcore==1.* in /usr/local/lib/python3.11/dist-packages (from httpx>=0.27.0->chromadb) (1.0.8)\n",
            "Requirement already satisfied: idna in /usr/local/lib/python3.11/dist-packages (from httpx>=0.27.0->chromadb) (3.10)\n",
            "Requirement already satisfied: h11<0.15,>=0.13 in /usr/local/lib/python3.11/dist-packages (from httpcore==1.*->httpx>=0.27.0->chromadb) (0.14.0)\n",
            "Requirement already satisfied: attrs>=22.2.0 in /usr/local/lib/python3.11/dist-packages (from jsonschema>=4.19.0->chromadb) (25.3.0)\n",
            "Requirement already satisfied: jsonschema-specifications>=2023.03.6 in /usr/local/lib/python3.11/dist-packages (from jsonschema>=4.19.0->chromadb) (2024.10.1)\n",
            "Requirement already satisfied: referencing>=0.28.4 in /usr/local/lib/python3.11/dist-packages (from jsonschema>=4.19.0->chromadb) (0.36.2)\n",
            "Requirement already satisfied: rpds-py>=0.7.1 in /usr/local/lib/python3.11/dist-packages (from jsonschema>=4.19.0->chromadb) (0.24.0)\n",
            "Requirement already satisfied: six>=1.9.0 in /usr/local/lib/python3.11/dist-packages (from kubernetes>=28.1.0->chromadb) (1.17.0)\n",
            "Requirement already satisfied: python-dateutil>=2.5.3 in /usr/local/lib/python3.11/dist-packages (from kubernetes>=28.1.0->chromadb) (2.8.2)\n",
            "Requirement already satisfied: google-auth>=1.0.1 in /usr/local/lib/python3.11/dist-packages (from kubernetes>=28.1.0->chromadb) (2.38.0)\n",
            "Requirement already satisfied: websocket-client!=0.40.0,!=0.41.*,!=0.42.*,>=0.32.0 in /usr/local/lib/python3.11/dist-packages (from kubernetes>=28.1.0->chromadb) (1.8.0)\n",
            "Requirement already satisfied: requests in /usr/local/lib/python3.11/dist-packages (from kubernetes>=28.1.0->chromadb) (2.32.3)\n",
            "Requirement already satisfied: requests-oauthlib in /usr/local/lib/python3.11/dist-packages (from kubernetes>=28.1.0->chromadb) (2.0.0)\n",
            "Requirement already satisfied: oauthlib>=3.2.2 in /usr/local/lib/python3.11/dist-packages (from kubernetes>=28.1.0->chromadb) (3.2.2)\n",
            "Requirement already satisfied: urllib3>=1.24.2 in /usr/local/lib/python3.11/dist-packages (from kubernetes>=28.1.0->chromadb) (2.3.0)\n",
            "Requirement already satisfied: durationpy>=0.7 in /usr/local/lib/python3.11/dist-packages (from kubernetes>=28.1.0->chromadb) (0.9)\n",
            "Requirement already satisfied: coloredlogs in /usr/local/lib/python3.11/dist-packages (from onnxruntime>=1.14.1->chromadb) (15.0.1)\n",
            "Requirement already satisfied: flatbuffers in /usr/local/lib/python3.11/dist-packages (from onnxruntime>=1.14.1->chromadb) (25.2.10)\n",
            "Requirement already satisfied: protobuf in /usr/local/lib/python3.11/dist-packages (from onnxruntime>=1.14.1->chromadb) (5.29.4)\n",
            "Requirement already satisfied: sympy in /usr/local/lib/python3.11/dist-packages (from onnxruntime>=1.14.1->chromadb) (1.13.1)\n",
            "Requirement already satisfied: deprecated>=1.2.6 in /usr/local/lib/python3.11/dist-packages (from opentelemetry-api>=1.2.0->chromadb) (1.2.18)\n",
            "Requirement already satisfied: importlib-metadata<8.7.0,>=6.0 in /usr/local/lib/python3.11/dist-packages (from opentelemetry-api>=1.2.0->chromadb) (8.6.1)\n",
            "Requirement already satisfied: googleapis-common-protos~=1.52 in /usr/local/lib/python3.11/dist-packages (from opentelemetry-exporter-otlp-proto-grpc>=1.2.0->chromadb) (1.70.0)\n",
            "Requirement already satisfied: opentelemetry-exporter-otlp-proto-common==1.32.1 in /usr/local/lib/python3.11/dist-packages (from opentelemetry-exporter-otlp-proto-grpc>=1.2.0->chromadb) (1.32.1)\n",
            "Requirement already satisfied: opentelemetry-proto==1.32.1 in /usr/local/lib/python3.11/dist-packages (from opentelemetry-exporter-otlp-proto-grpc>=1.2.0->chromadb) (1.32.1)\n",
            "Requirement already satisfied: opentelemetry-instrumentation-asgi==0.53b1 in /usr/local/lib/python3.11/dist-packages (from opentelemetry-instrumentation-fastapi>=0.41b0->chromadb) (0.53b1)\n",
            "Requirement already satisfied: opentelemetry-instrumentation==0.53b1 in /usr/local/lib/python3.11/dist-packages (from opentelemetry-instrumentation-fastapi>=0.41b0->chromadb) (0.53b1)\n",
            "Requirement already satisfied: opentelemetry-semantic-conventions==0.53b1 in /usr/local/lib/python3.11/dist-packages (from opentelemetry-instrumentation-fastapi>=0.41b0->chromadb) (0.53b1)\n",
            "Requirement already satisfied: opentelemetry-util-http==0.53b1 in /usr/local/lib/python3.11/dist-packages (from opentelemetry-instrumentation-fastapi>=0.41b0->chromadb) (0.53b1)\n",
            "Requirement already satisfied: wrapt<2.0.0,>=1.0.0 in /usr/local/lib/python3.11/dist-packages (from opentelemetry-instrumentation==0.53b1->opentelemetry-instrumentation-fastapi>=0.41b0->chromadb) (1.17.2)\n",
            "Requirement already satisfied: asgiref~=3.0 in /usr/local/lib/python3.11/dist-packages (from opentelemetry-instrumentation-asgi==0.53b1->opentelemetry-instrumentation-fastapi>=0.41b0->chromadb) (3.8.1)\n",
            "Requirement already satisfied: monotonic>=1.5 in /usr/local/lib/python3.11/dist-packages (from posthog>=2.4.0->chromadb) (1.6)\n",
            "Requirement already satisfied: backoff>=1.10.0 in /usr/local/lib/python3.11/dist-packages (from posthog>=2.4.0->chromadb) (2.2.1)\n",
            "Requirement already satisfied: distro>=1.5.0 in /usr/local/lib/python3.11/dist-packages (from posthog>=2.4.0->chromadb) (1.9.0)\n",
            "Requirement already satisfied: annotated-types>=0.6.0 in /usr/local/lib/python3.11/dist-packages (from pydantic>=1.9->chromadb) (0.7.0)\n",
            "Requirement already satisfied: pydantic-core==2.33.1 in /usr/local/lib/python3.11/dist-packages (from pydantic>=1.9->chromadb) (2.33.1)\n",
            "Requirement already satisfied: typing-inspection>=0.4.0 in /usr/local/lib/python3.11/dist-packages (from pydantic>=1.9->chromadb) (0.4.0)\n",
            "Requirement already satisfied: markdown-it-py>=2.2.0 in /usr/local/lib/python3.11/dist-packages (from rich>=10.11.0->chromadb) (3.0.0)\n",
            "Requirement already satisfied: pygments<3.0.0,>=2.13.0 in /usr/local/lib/python3.11/dist-packages (from rich>=10.11.0->chromadb) (2.18.0)\n",
            "Requirement already satisfied: huggingface-hub<1.0,>=0.16.4 in /usr/local/lib/python3.11/dist-packages (from tokenizers>=0.13.2->chromadb) (0.30.2)\n",
            "Requirement already satisfied: click>=8.0.0 in /usr/local/lib/python3.11/dist-packages (from typer>=0.9.0->chromadb) (8.1.8)\n",
            "Requirement already satisfied: shellingham>=1.3.0 in /usr/local/lib/python3.11/dist-packages (from typer>=0.9.0->chromadb) (1.5.4)\n",
            "Requirement already satisfied: httptools>=0.6.3 in /usr/local/lib/python3.11/dist-packages (from uvicorn[standard]>=0.18.3->chromadb) (0.6.4)\n",
            "Requirement already satisfied: python-dotenv>=0.13 in /usr/local/lib/python3.11/dist-packages (from uvicorn[standard]>=0.18.3->chromadb) (1.1.0)\n",
            "Requirement already satisfied: uvloop!=0.15.0,!=0.15.1,>=0.14.0 in /usr/local/lib/python3.11/dist-packages (from uvicorn[standard]>=0.18.3->chromadb) (0.21.0)\n",
            "Requirement already satisfied: watchfiles>=0.13 in /usr/local/lib/python3.11/dist-packages (from uvicorn[standard]>=0.18.3->chromadb) (1.0.5)\n",
            "Requirement already satisfied: websockets>=10.4 in /usr/local/lib/python3.11/dist-packages (from uvicorn[standard]>=0.18.3->chromadb) (15.0.1)\n",
            "Requirement already satisfied: cachetools<6.0,>=2.0.0 in /usr/local/lib/python3.11/dist-packages (from google-auth>=1.0.1->kubernetes>=28.1.0->chromadb) (5.5.2)\n",
            "Requirement already satisfied: pyasn1-modules>=0.2.1 in /usr/local/lib/python3.11/dist-packages (from google-auth>=1.0.1->kubernetes>=28.1.0->chromadb) (0.4.2)\n",
            "Requirement already satisfied: rsa<5,>=3.1.4 in /usr/local/lib/python3.11/dist-packages (from google-auth>=1.0.1->kubernetes>=28.1.0->chromadb) (4.9.1)\n",
            "Requirement already satisfied: filelock in /usr/local/lib/python3.11/dist-packages (from huggingface-hub<1.0,>=0.16.4->tokenizers>=0.13.2->chromadb) (3.18.0)\n",
            "Requirement already satisfied: fsspec>=2023.5.0 in /usr/local/lib/python3.11/dist-packages (from huggingface-hub<1.0,>=0.16.4->tokenizers>=0.13.2->chromadb) (2025.3.2)\n",
            "Requirement already satisfied: zipp>=3.20 in /usr/local/lib/python3.11/dist-packages (from importlib-metadata<8.7.0,>=6.0->opentelemetry-api>=1.2.0->chromadb) (3.21.0)\n",
            "Requirement already satisfied: mdurl~=0.1 in /usr/local/lib/python3.11/dist-packages (from markdown-it-py>=2.2.0->rich>=10.11.0->chromadb) (0.1.2)\n",
            "Requirement already satisfied: charset-normalizer<4,>=2 in /usr/local/lib/python3.11/dist-packages (from requests->kubernetes>=28.1.0->chromadb) (3.4.1)\n",
            "Requirement already satisfied: sniffio>=1.1 in /usr/local/lib/python3.11/dist-packages (from anyio->httpx>=0.27.0->chromadb) (1.3.1)\n",
            "Requirement already satisfied: humanfriendly>=9.1 in /usr/local/lib/python3.11/dist-packages (from coloredlogs->onnxruntime>=1.14.1->chromadb) (10.0)\n",
            "Requirement already satisfied: mpmath<1.4,>=1.1.0 in /usr/local/lib/python3.11/dist-packages (from sympy->onnxruntime>=1.14.1->chromadb) (1.3.0)\n",
            "Requirement already satisfied: pyasn1<0.7.0,>=0.6.1 in /usr/local/lib/python3.11/dist-packages (from pyasn1-modules>=0.2.1->google-auth>=1.0.1->kubernetes>=28.1.0->chromadb) (0.6.1)\n",
            "Requirement already satisfied: langchain-community in /usr/local/lib/python3.11/dist-packages (0.3.22)\n",
            "Requirement already satisfied: langchain-core<1.0.0,>=0.3.55 in /usr/local/lib/python3.11/dist-packages (from langchain-community) (0.3.55)\n",
            "Requirement already satisfied: langchain<1.0.0,>=0.3.24 in /usr/local/lib/python3.11/dist-packages (from langchain-community) (0.3.24)\n",
            "Requirement already satisfied: SQLAlchemy<3,>=1.4 in /usr/local/lib/python3.11/dist-packages (from langchain-community) (2.0.40)\n",
            "Requirement already satisfied: requests<3,>=2 in /usr/local/lib/python3.11/dist-packages (from langchain-community) (2.32.3)\n",
            "Requirement already satisfied: PyYAML>=5.3 in /usr/local/lib/python3.11/dist-packages (from langchain-community) (6.0.2)\n",
            "Requirement already satisfied: aiohttp<4.0.0,>=3.8.3 in /usr/local/lib/python3.11/dist-packages (from langchain-community) (3.11.15)\n",
            "Requirement already satisfied: tenacity!=8.4.0,<10,>=8.1.0 in /usr/local/lib/python3.11/dist-packages (from langchain-community) (9.1.2)\n",
            "Requirement already satisfied: dataclasses-json<0.7,>=0.5.7 in /usr/local/lib/python3.11/dist-packages (from langchain-community) (0.6.7)\n",
            "Requirement already satisfied: pydantic-settings<3.0.0,>=2.4.0 in /usr/local/lib/python3.11/dist-packages (from langchain-community) (2.9.1)\n",
            "Requirement already satisfied: langsmith<0.4,>=0.1.125 in /usr/local/lib/python3.11/dist-packages (from langchain-community) (0.3.33)\n",
            "Requirement already satisfied: httpx-sse<1.0.0,>=0.4.0 in /usr/local/lib/python3.11/dist-packages (from langchain-community) (0.4.0)\n",
            "Requirement already satisfied: numpy>=1.26.2 in /usr/local/lib/python3.11/dist-packages (from langchain-community) (2.0.2)\n",
            "Requirement already satisfied: aiohappyeyeballs>=2.3.0 in /usr/local/lib/python3.11/dist-packages (from aiohttp<4.0.0,>=3.8.3->langchain-community) (2.6.1)\n",
            "Requirement already satisfied: aiosignal>=1.1.2 in /usr/local/lib/python3.11/dist-packages (from aiohttp<4.0.0,>=3.8.3->langchain-community) (1.3.2)\n",
            "Requirement already satisfied: attrs>=17.3.0 in /usr/local/lib/python3.11/dist-packages (from aiohttp<4.0.0,>=3.8.3->langchain-community) (25.3.0)\n",
            "Requirement already satisfied: frozenlist>=1.1.1 in /usr/local/lib/python3.11/dist-packages (from aiohttp<4.0.0,>=3.8.3->langchain-community) (1.6.0)\n",
            "Requirement already satisfied: multidict<7.0,>=4.5 in /usr/local/lib/python3.11/dist-packages (from aiohttp<4.0.0,>=3.8.3->langchain-community) (6.4.3)\n",
            "Requirement already satisfied: propcache>=0.2.0 in /usr/local/lib/python3.11/dist-packages (from aiohttp<4.0.0,>=3.8.3->langchain-community) (0.3.1)\n",
            "Requirement already satisfied: yarl<2.0,>=1.17.0 in /usr/local/lib/python3.11/dist-packages (from aiohttp<4.0.0,>=3.8.3->langchain-community) (1.20.0)\n",
            "Requirement already satisfied: marshmallow<4.0.0,>=3.18.0 in /usr/local/lib/python3.11/dist-packages (from dataclasses-json<0.7,>=0.5.7->langchain-community) (3.26.1)\n",
            "Requirement already satisfied: typing-inspect<1,>=0.4.0 in /usr/local/lib/python3.11/dist-packages (from dataclasses-json<0.7,>=0.5.7->langchain-community) (0.9.0)\n",
            "Requirement already satisfied: langchain-text-splitters<1.0.0,>=0.3.8 in /usr/local/lib/python3.11/dist-packages (from langchain<1.0.0,>=0.3.24->langchain-community) (0.3.8)\n",
            "Requirement already satisfied: pydantic<3.0.0,>=2.7.4 in /usr/local/lib/python3.11/dist-packages (from langchain<1.0.0,>=0.3.24->langchain-community) (2.11.3)\n",
            "Requirement already satisfied: jsonpatch<2.0,>=1.33 in /usr/local/lib/python3.11/dist-packages (from langchain-core<1.0.0,>=0.3.55->langchain-community) (1.33)\n",
            "Requirement already satisfied: packaging<25,>=23.2 in /usr/local/lib/python3.11/dist-packages (from langchain-core<1.0.0,>=0.3.55->langchain-community) (24.2)\n",
            "Requirement already satisfied: typing-extensions>=4.7 in /usr/local/lib/python3.11/dist-packages (from langchain-core<1.0.0,>=0.3.55->langchain-community) (4.13.2)\n",
            "Requirement already satisfied: httpx<1,>=0.23.0 in /usr/local/lib/python3.11/dist-packages (from langsmith<0.4,>=0.1.125->langchain-community) (0.28.1)\n",
            "Requirement already satisfied: orjson<4.0.0,>=3.9.14 in /usr/local/lib/python3.11/dist-packages (from langsmith<0.4,>=0.1.125->langchain-community) (3.10.16)\n",
            "Requirement already satisfied: requests-toolbelt<2.0.0,>=1.0.0 in /usr/local/lib/python3.11/dist-packages (from langsmith<0.4,>=0.1.125->langchain-community) (1.0.0)\n",
            "Requirement already satisfied: zstandard<0.24.0,>=0.23.0 in /usr/local/lib/python3.11/dist-packages (from langsmith<0.4,>=0.1.125->langchain-community) (0.23.0)\n",
            "Requirement already satisfied: python-dotenv>=0.21.0 in /usr/local/lib/python3.11/dist-packages (from pydantic-settings<3.0.0,>=2.4.0->langchain-community) (1.1.0)\n",
            "Requirement already satisfied: typing-inspection>=0.4.0 in /usr/local/lib/python3.11/dist-packages (from pydantic-settings<3.0.0,>=2.4.0->langchain-community) (0.4.0)\n",
            "Requirement already satisfied: charset-normalizer<4,>=2 in /usr/local/lib/python3.11/dist-packages (from requests<3,>=2->langchain-community) (3.4.1)\n",
            "Requirement already satisfied: idna<4,>=2.5 in /usr/local/lib/python3.11/dist-packages (from requests<3,>=2->langchain-community) (3.10)\n",
            "Requirement already satisfied: urllib3<3,>=1.21.1 in /usr/local/lib/python3.11/dist-packages (from requests<3,>=2->langchain-community) (2.3.0)\n",
            "Requirement already satisfied: certifi>=2017.4.17 in /usr/local/lib/python3.11/dist-packages (from requests<3,>=2->langchain-community) (2025.1.31)\n",
            "Requirement already satisfied: greenlet>=1 in /usr/local/lib/python3.11/dist-packages (from SQLAlchemy<3,>=1.4->langchain-community) (3.2.1)\n",
            "Requirement already satisfied: anyio in /usr/local/lib/python3.11/dist-packages (from httpx<1,>=0.23.0->langsmith<0.4,>=0.1.125->langchain-community) (4.9.0)\n",
            "Requirement already satisfied: httpcore==1.* in /usr/local/lib/python3.11/dist-packages (from httpx<1,>=0.23.0->langsmith<0.4,>=0.1.125->langchain-community) (1.0.8)\n",
            "Requirement already satisfied: h11<0.15,>=0.13 in /usr/local/lib/python3.11/dist-packages (from httpcore==1.*->httpx<1,>=0.23.0->langsmith<0.4,>=0.1.125->langchain-community) (0.14.0)\n",
            "Requirement already satisfied: jsonpointer>=1.9 in /usr/local/lib/python3.11/dist-packages (from jsonpatch<2.0,>=1.33->langchain-core<1.0.0,>=0.3.55->langchain-community) (3.0.0)\n",
            "Requirement already satisfied: annotated-types>=0.6.0 in /usr/local/lib/python3.11/dist-packages (from pydantic<3.0.0,>=2.7.4->langchain<1.0.0,>=0.3.24->langchain-community) (0.7.0)\n",
            "Requirement already satisfied: pydantic-core==2.33.1 in /usr/local/lib/python3.11/dist-packages (from pydantic<3.0.0,>=2.7.4->langchain<1.0.0,>=0.3.24->langchain-community) (2.33.1)\n",
            "Requirement already satisfied: mypy-extensions>=0.3.0 in /usr/local/lib/python3.11/dist-packages (from typing-inspect<1,>=0.4.0->dataclasses-json<0.7,>=0.5.7->langchain-community) (1.1.0)\n",
            "Requirement already satisfied: sniffio>=1.1 in /usr/local/lib/python3.11/dist-packages (from anyio->httpx<1,>=0.23.0->langsmith<0.4,>=0.1.125->langchain-community) (1.3.1)\n"
          ]
        }
      ],
      "source": [
        "\n",
        "!pip install pypdf\n",
        "\n",
        "!pip install google-generativeai\n",
        "!pip install langchain-google-genai\n",
        "!pip install langchain unstructured requests beautifulsoup4\n",
        "!pip install chromadb\n",
        "!pip install langchain-community\n",
        "\n",
        "\n"
      ]
    },
    {
      "cell_type": "code",
      "source": [
        "from langchain_community.document_loaders import PyPDFLoader\n",
        "\n",
        "loader = PyPDFLoader(\"Students Guidelines.pdf\")\n",
        "data = loader.load()  # entire PDF is loaded as a single Document\n",
        "#data\n",
        "# from langchain_community.document_loaders import UnstructuredURLLoader\n",
        "\n",
        "# # URL you want to scrape\n",
        "# urls = [\"https://www.dauniv.ac.in/contact\"]\n",
        "\n",
        "# # Pass a list of URLs\n",
        "# loader = UnstructuredURLLoader(urls=urls)\n",
        "\n",
        "# # Load documents\n",
        "# documents = loader.load()\n",
        "\n",
        "# # Print loaded data\n",
        "# for doc in documents:\n",
        "#     print(doc.page_content)  # or simply print(doc)\n",
        "data"
      ],
      "metadata": {
        "id": "jfU5rUaNMQNn",
        "colab": {
          "base_uri": "https://localhost:8080/"
        },
        "outputId": "37f400c2-4696-451f-a2a7-c3d6a2028401"
      },
      "execution_count": 27,
      "outputs": [
        {
          "output_type": "execute_result",
          "data": {
            "text/plain": [
              "[Document(metadata={'producer': 'PDFium', 'creator': 'PDFium', 'creationdate': 'D:20250422111550', 'source': 'Students Guidelines.pdf', 'total_pages': 5, 'page': 0, 'page_label': '1'}, page_content='NATIONAL INFORMATICS CENTRE \\nMINISTRY OF ELECTRONICS AND INFORMATION TECHNOLOGY \\n \\nDIGITAL INDIA INTERNSHIP SCHEME FOR NIC (SUMMER 2025 BATCH) \\n \\n1. PURPOSE: \\n \\nAn internship is an opportunity for a student to secure first hand and practical work  \\nexperience under the guidance of a qualified and experienced Supervisor/Mentor. It also  \\naims at active participation in the learning process through experimentation and putting  \\ninto practice the knowledge acquired in the classrooms. \\n \\n2. ABOUT NIC: \\n \\nNational Informatics Centre (NIC) has been instrumental in steering e- \\nGovernment/eGovernance applications in Government ministries/departments at the  \\nCentre, States, Districts and Blocks, facilitating improvement in government services,  \\nwider transparency, promoting decentralized p lanning and management, resulting in  \\nbetter efficiency and accountability to the people of India. “Informatics -led-development”  \\nprogramme of the government has been spearheaded by NIC to derive competitive \\nadvantage by implementing ICT applications in social & public administration. NIC has  \\nimplemented many nationwide eGovernance projects in close collaboration with Central \\nand State Governments such as PFMS, eHospital, Vahan, Sarathi, eOffice, ePrisons, \\nServicePlus , ,IVFRT,PM KISAN,PRAYAS, PARIVESH  etc  which are also implemented in many \\nother countries. For the  larger benefit of the student community and with a view to \\nenrich the management/implementation of its various schemes/programmes/projects, \\nNIC has notified these “Internship Guidelines”, to pro vide a framework for engagement \\nof Interns for a limited period at NIC, Headquarter, New Delhi and at NIC State Centres. \\n \\n3. DEFINITIONS: \\n \\nUnless the context requires otherwise,  the following words shall have the meaning \\nattributed to them in these guidelines:- \\n \\n(i) “Ministry” means The Ministry of Electronics and Information Technology  \\n(MeitY). \\n \\n(ii) “NIC” means National Informatics Centre (NIC). \\n \\n(iii) “Competent Authority” means  the Director General, National Informatics  \\nCentre. \\n \\n(iv) “Sponsoring Institution” means  the Academic Institution,  in which the  \\nApplicant is currently studying or has recently passed out. \\n \\n(v) “Applicant for Internship” is a person, who wants to work for mutual benefit  \\nwith NIC,  on a full -time basis with  the sole  purpose of enriching his/her  \\nknowledge in the area of expertise. \\n \\n(vi) “Area of Expertise” means the subject or area in which the Applicant  \\npossesses expertise and wants to enrich it further.'),\n",
              " Document(metadata={'producer': 'PDFium', 'creator': 'PDFium', 'creationdate': 'D:20250422111550', 'source': 'Students Guidelines.pdf', 'total_pages': 5, 'page': 1, 'page_label': '2'}, page_content='4. ELIGIBILITY: \\n \\n(i) Indian students from recognized universities in India who have secured at \\nleast 60% marks in the last held degree or certificate examination and  \\npursuing B.E/ B.Tech, M.E/ M.Tech/ MCA, MSc (Electronics)/ MSc(CS)/  \\nMSc(IT), DoEACC ‘B’ level shall be eligible. \\n \\n(ii) Possessing minimum qualifications  as above shall not guarantee internship  \\nin NIC. Candidates having exposure in the area of intended internship with  \\ngood academic background and having higher qualification, based on need  \\nshall be given preference.  \\nNote: The students who are in the last semester or who will pass out in  \\nsummer 2025  will not be eligible for the Internship. The following students  \\nare eligible: \\n \\nS.No. Course Pursuing Eligibility \\n1. B.E/B.Tech 3rd Year \\n2. B.E/B.Tech (lateral) 3rd Year \\n3. M.E./M.Tech./M.Sc(CS)/M.Sc(IT)  1st Year \\n4. MCA 2nd Year \\n5. Dual Degree Courses(ME/M.Tech) 4th Year \\n6. DoEACC ‘B’ level Diploma/Graduation/DoEACC ‘A’ level \\n \\n5. DURATION OF INTERNSHIP: \\n \\nThe minimum duration of internship shall be of two months, extendable up to three  \\nmonths, depending on the performance of the candidate, requirement of NIC and time  \\nthe Intern is willing to spend with NIC. Summer internship will start from 2nd June \\n2025. \\nS No Broad Area of Internship \\n1 Block Chain Technology \\n2 Cloud Computing \\n3 Artificial Intelligence  and Machine Learning \\n4 Micro Services \\n5 Data Analytics \\n6 Angular/REACT  \\n7 PHP Programming  \\n8 DevOps \\n9 Chatbot \\n10 Internet of Things (IoT) \\n11 Cyber Security \\n12 Quantum Computing and Cryptography \\n13 Mobile App Development  \\n14 Open APIs \\n15 User Interface/User  Experience (UI/UX) \\n16 Networking \\n17 .NET Programming \\n18 Java Programming \\n19 Node.js \\n20 GIS Technologies \\nTotal Students : 20 \\n \\n \\n6. PLACE OF INTERNSHIP: \\n \\nThe internship will be offered at NIC, Headquarters, New Delhi and at various NIC State'),\n",
              " Document(metadata={'producer': 'PDFium', 'creator': 'PDFium', 'creationdate': 'D:20250422111550', 'source': 'Students Guidelines.pdf', 'total_pages': 5, 'page': 2, 'page_label': '3'}, page_content='Centres. \\n \\n7. HOW TO APPLY: \\n \\n(i) Interested and eligible students need to apply online ONLY on the Web  \\nPortal of NIC for the Internship Scheme  (URL: https://dii.nic.in ) \\n \\n(ii) The Students needs to get Recommendation  Letter forwarded  by the \\nInstitution on the Letter Head of the Institute. \\n \\n(iii) The Students needs to upload certificates  of completed  degrees and last \\nresult available.  \\n \\n(iv) The student will be required to submit a write -up not less than 100 words  \\nand not more than 250 words under the subject `Statement  of Purpose’  \\nbringing out the purpose/benefits  of the scheme. \\n \\n(v) Students have to select maximum two choices of interest \\n \\n(vi) Student will be asked to submit a self -declaration for conversion formula of  \\nCGPA into percentage with attestation  from their educational  institution.  \\n \\n8. SELECTION: \\n \\n(i) The Interns will be shortlisted  and selected by the respective  \\nGroups/Divisions  for their concerned  domain. \\n \\n(ii) For selection of interns, personal or Skype Interview, may be conducted, if  \\ndeemed necessary. No TA / DA shall be paid to candidates for attending the \\npersonal interview.  \\n \\n(iii) Providing any false declaration of Information which include degree/certificate/marks \\nobtained is liable to rejection of Candidature/Application. \\n \\n9. CODE OF CONDUCT: \\n \\nThe Intern appointed by NIC shall observe the following Code of Conduct, which \\nshall include but not be limited to, the following:  \\n \\n(i) The Intern shall follow the rules and regulations, which are in general  \\napplicable to employees of NIC. \\n \\n(ii) The Intern shall follow the confidentiality  protocol of NIC  and  shall  not  \\nreveal to any person  or  organization  confidential  information relating to  \\nNIC, its work and policies. \\n \\n(iii) The Intern shall not claim any intellectual property  right,  of  work done at  \\nNIC and has to strictly maintain the confidentiality  of NIC’s intellectual  \\nproperty. Any violation/infringement will be viewed  adversely against the \\nIntern as well as the institution  to which he/she belongs and may invite  \\nappropriate  action. \\n \\n(iv) The students and the Sponsoring Institution concerned shall have no claim  \\nwhatsoever  on the results of  the project  work. NIC  retains all intellectual  \\nproperty rights in  patents, designs, software  copyright (source code) and \\npublications,  if any, that may be generated during the course of project work.'),\n",
              " Document(metadata={'producer': 'PDFium', 'creator': 'PDFium', 'creationdate': 'D:20250422111550', 'source': 'Students Guidelines.pdf', 'total_pages': 5, 'page': 3, 'page_label': '4'}, page_content='(v) Interns may, with the prior permission of NIC, present their work to \\nacademic bodies and at  seminars/conferences. However, even for this  \\npurpose information that is confidential to NIC cannot be revealed under  \\nany circumstances. \\n \\n(vi) Any papers and documents written and/or published by the Intern should \\ncarry the caveat  that the views  are the personal views of the Intern and do  \\nnot represent or reflect the views of NIC. \\n \\n(vii) Interns will follow the advice given to them by NIC regarding  \\nrepresentations  to third parties. \\n \\n \\n(viii) In general, an Intern may  not interact with or represent  NIC  vis -  à-  vis \\nthird parties. However, some Interns may specifically be authorized to  \\ninteract with third parties on behalf of NIC depending on the nature of their  \\nroles and responsibilities.  \\n \\n(ix) No Intern shall interact with or represent NIC to the media (print and \\nelectronic).  \\n \\n(x) Interns will conduct themselves  professionally  in  their  relationship with  \\nNIC and the public in general. \\n \\n(xi)  Interns are required to be present at NIC premises and follow the Office  \\ntimings, unless otherwise permitted by  the Supervisor/Mentor  in writing. \\n \\n(xii)      The Intern has to make his/ her own accommodation arrangement during  \\nthe internship. \\n \\n(xiii)     Library facility at NIC is limited to referencing  only; borrowing  of \\nbooks/journals  is not extended to the Interns. \\n \\n(xiv)     In the event of unsatisfactory performance, the concerned Intern may  be \\nadvised by NIC to discontinue the project  work, before  the  completion of  the term \\nof internship.  \\n \\n \\n10. PLACEMENT: \\n \\n(i) Every batch of Interns or individual Interns, as the case may be, will have \\na Scientific/Technical Project Supervisor/Mentor from NIC. \\n \\n(ii) The internship is neither an employment  nor an assurance  of an \\nemployment  with NIC. \\n11. SUBMISSION OF REPORT/PAPER: \\n \\n(i) Work plans and work schedules shall be developed by Supervisor/Mentor  \\nand the Interns shall invariably  adhere to the same. \\n \\n(ii) The Interns will be required to submit a Report on the work undertaken at  \\nthe end of the internship to NIC and make presentation  to group of NIC Officers. \\n \\n(iii) The project report prepared for the  Sponsoring Institution  in which the \\nIntern is enrolled and for NIC is required to be identical in all respects. \\n \\n(iv) The students must furnish a “No–Demand Certificate”  to NIC in the  \\nprescribed format after completion of project  work along with a  soft copy and'),\n",
              " Document(metadata={'producer': 'PDFium', 'creator': 'PDFium', 'creationdate': 'D:20250422111550', 'source': 'Students Guidelines.pdf', 'total_pages': 5, 'page': 4, 'page_label': '5'}, page_content='hard copy of the project report. \\n \\n(v) The certificate in the project report prescribed by  the  Sponsoring \\nInstitution, the cover page and all certificates  in the project report should  \\ncategorically reflect that the project work was executed at No–Demand \\nCertificate. The acknowledgement sheet in the project report should mention the  \\nname of the Supervisor/Mentor  who has guided the Intern at NIC. \\n \\n12. TOKEN REMUNERATION: \\n(i) A token remuneration of Rs.10,000/ - per month would be paid to an  \\nIntern, subject to satisfactory performance, duly certified by his \\nSupervisor/Mentor. \\n \\n(ii) The remuneration  shall be paid after the completion  of internship  on \\nsubmission of Report duly accepted by NIC. \\n \\n13. CERTIFICATE OF INTERNSHIP: \\n \\nCertificates will be issued by NIC to the Interns on the completion of internship  \\nand submission of Report duly countersigned and accepted by Training Division,  \\nNIC. \\n \\n14. TERMINATION: \\n \\n(i) NIC may disengage an Intern if it is of the view that the services of the  \\nIntern are no more required. \\n \\n(ii) NIC may terminate  the internship of the Intern at any time without \\nassigning any reasons and with immediate effect. \\n \\n(iii) If the Intern decides to disengage from NIC, he should provide 2 weeks’  \\nprior notice. \\n \\n(iv) Upon termination,  the Intern must  hand over to NIC,  any papers,  \\nequipments or other assets which might have been given to the Intern by NIC  \\nin course of his project work with NIC. This will include any badges or ID Cards \\nwhich may have been issued to the Intern. \\n \\n(v) If it comes to the notice of NIC that the person whose services have been  \\nterminated by NIC continues  to act in  a manner  which gives an  impression that  \\nhe is still  working for NIC, NIC shall be free  to take appropriate legal  action \\nagainst such person. \\n \\n(vi) The Competent Authority may initiate appropriate action  against erring  \\nIntern and decision of the  Competent Authority would be  final and binding on  \\nthe Intern. \\n \\n15. POWER TO REMOVE DIFFICULTIES: \\n \\nThe Competent  Authority shall have the power to remove any difficulty which \\nmay come in the way of the implementation  of these guidelines.  \\n***********')]"
            ]
          },
          "metadata": {},
          "execution_count": 27
        }
      ]
    },
    {
      "cell_type": "code",
      "source": [
        "len(data)"
      ],
      "metadata": {
        "colab": {
          "base_uri": "https://localhost:8080/"
        },
        "id": "hJq4m-MkMrro",
        "outputId": "bb147292-16e5-4576-b31b-5b3c56785486"
      },
      "execution_count": 28,
      "outputs": [
        {
          "output_type": "execute_result",
          "data": {
            "text/plain": [
              "5"
            ]
          },
          "metadata": {},
          "execution_count": 28
        }
      ]
    },
    {
      "cell_type": "code",
      "source": [
        "from langchain.text_splitter import RecursiveCharacterTextSplitter\n",
        "\n",
        "# split data\n",
        "text_splitter = RecursiveCharacterTextSplitter(chunk_size=1000)\n",
        "docs = text_splitter.split_documents(data)\n",
        "\n",
        "\n",
        "print(\"Total number of documents: \",len(docs))"
      ],
      "metadata": {
        "colab": {
          "base_uri": "https://localhost:8080/"
        },
        "id": "K1_MLfcRM-De",
        "outputId": "1e08ed3e-749c-48c8-f020-65ebaae9dc1d"
      },
      "execution_count": 29,
      "outputs": [
        {
          "output_type": "stream",
          "name": "stdout",
          "text": [
            "Total number of documents:  16\n"
          ]
        }
      ]
    },
    {
      "cell_type": "code",
      "source": [
        "docs[2].page_content"
      ],
      "metadata": {
        "colab": {
          "base_uri": "https://localhost:8080/",
          "height": 140
        },
        "id": "ecTJYDXiNQju",
        "outputId": "5c7efc29-d711-4f2b-c966-2a1559f20083"
      },
      "execution_count": 30,
      "outputs": [
        {
          "output_type": "execute_result",
          "data": {
            "text/plain": [
              "'NIC has notified these “Internship Guidelines”, to pro vide a framework for engagement \\nof Interns for a limited period at NIC, Headquarter, New Delhi and at NIC State Centres. \\n \\n3. DEFINITIONS: \\n \\nUnless the context requires otherwise,  the following words shall have the meaning \\nattributed to them in these guidelines:- \\n \\n(i) “Ministry” means The Ministry of Electronics and Information Technology  \\n(MeitY). \\n \\n(ii) “NIC” means National Informatics Centre (NIC). \\n \\n(iii) “Competent Authority” means  the Director General, National Informatics  \\nCentre. \\n \\n(iv) “Sponsoring Institution” means  the Academic Institution,  in which the  \\nApplicant is currently studying or has recently passed out. \\n \\n(v) “Applicant for Internship” is a person, who wants to work for mutual benefit  \\nwith NIC,  on a full -time basis with  the sole  purpose of enriching his/her  \\nknowledge in the area of expertise. \\n \\n(vi) “Area of Expertise” means the subject or area in which the Applicant'"
            ],
            "application/vnd.google.colaboratory.intrinsic+json": {
              "type": "string"
            }
          },
          "metadata": {},
          "execution_count": 30
        }
      ]
    },
    {
      "cell_type": "code",
      "source": [],
      "metadata": {
        "id": "GuJv-0e2Nbuh"
      },
      "execution_count": 31,
      "outputs": []
    },
    {
      "cell_type": "code",
      "source": [],
      "metadata": {
        "id": "AVKh9z4JNshB"
      },
      "execution_count": 31,
      "outputs": []
    },
    {
      "cell_type": "code",
      "source": [
        "\n",
        "from langchain_community.vectorstores import Chroma\n",
        "from langchain_google_genai import GoogleGenerativeAIEmbeddings\n"
      ],
      "metadata": {
        "id": "iXQNvdVkO11w"
      },
      "execution_count": 31,
      "outputs": []
    },
    {
      "cell_type": "code",
      "source": [
        "from dotenv import load_dotenv\n",
        "load_dotenv()"
      ],
      "metadata": {
        "colab": {
          "base_uri": "https://localhost:8080/"
        },
        "id": "JytDAq5iPMxy",
        "outputId": "3ccc217b-fa37-4bd6-a94e-b3134b93556e"
      },
      "execution_count": 32,
      "outputs": [
        {
          "output_type": "execute_result",
          "data": {
            "text/plain": [
              "False"
            ]
          },
          "metadata": {},
          "execution_count": 32
        }
      ]
    },
    {
      "cell_type": "code",
      "source": [
        "import os\n",
        "os.environ[\"GOOGLE_API_KEY\"] = \"put api\"  # ← Replace with your real Google API Key\n",
        "\n",
        "embedding = GoogleGenerativeAIEmbeddings(\n",
        "    model=\"models/embedding-001\",\n",
        "\n",
        ")\n",
        "\n",
        "\n",
        "vectordb = Chroma(\n",
        "    persist_directory=\"./chroma_db\",\n",
        "    embedding_function=embedding\n",
        ")"
      ],
      "metadata": {
        "id": "idvy75uqPWdb"
      },
      "execution_count": 33,
      "outputs": []
    },
    {
      "cell_type": "code",
      "source": [
        "vector = embedding.embed_query(\"hello, world!\")\n",
        "len(vector)"
      ],
      "metadata": {
        "colab": {
          "base_uri": "https://localhost:8080/"
        },
        "id": "rvjoLzOrPbmg",
        "outputId": "e99965e8-1110-46cc-9dad-795b1fe33097"
      },
      "execution_count": 34,
      "outputs": [
        {
          "output_type": "execute_result",
          "data": {
            "text/plain": [
              "768"
            ]
          },
          "metadata": {},
          "execution_count": 34
        }
      ]
    },
    {
      "cell_type": "code",
      "source": [],
      "metadata": {
        "id": "JNMQRzy3RQ0l"
      },
      "execution_count": null,
      "outputs": []
    },
    {
      "cell_type": "code",
      "source": [
        "# vectorstore = Chroma.from_documents(documents=docs, embedding=GoogleGenerativeAIEmbeddings(model=\"models/embedding-001\",google_api_key=os.environ[\"GOOGLE_API_KEY\"]))\n",
        "vectorstore = Chroma.from_documents(documents=docs, embedding=GoogleGenerativeAIEmbeddings(model=\"models/embedding-001\"))\n"
      ],
      "metadata": {
        "id": "0dVoIZi3QQ4Z"
      },
      "execution_count": 35,
      "outputs": []
    },
    {
      "cell_type": "code",
      "source": [
        "vectorstore"
      ],
      "metadata": {
        "colab": {
          "base_uri": "https://localhost:8080/"
        },
        "id": "1FxnrjvSRbTC",
        "outputId": "6ba8561b-7f50-4dc1-8bba-cca6cf0c7818"
      },
      "execution_count": 36,
      "outputs": [
        {
          "output_type": "execute_result",
          "data": {
            "text/plain": [
              "<langchain_community.vectorstores.chroma.Chroma at 0x7e71c3f0a450>"
            ]
          },
          "metadata": {},
          "execution_count": 36
        }
      ]
    },
    {
      "cell_type": "code",
      "source": [
        "retriever = vectorstore.as_retriever(search_type=\"similarity\", search_kwargs={\"k\": 10})\n",
        "\n",
        "retrieved_docs = retriever.invoke(\"What is skill for the internship\")\n"
      ],
      "metadata": {
        "id": "TnYeuBk-R9A4"
      },
      "execution_count": 37,
      "outputs": []
    },
    {
      "cell_type": "code",
      "source": [
        "len(retrieved_docs)"
      ],
      "metadata": {
        "colab": {
          "base_uri": "https://localhost:8080/"
        },
        "id": "-pD3s9eZSP8A",
        "outputId": "895735a1-d31b-402d-9394-ed258f3d329d"
      },
      "execution_count": 38,
      "outputs": [
        {
          "output_type": "execute_result",
          "data": {
            "text/plain": [
              "10"
            ]
          },
          "metadata": {},
          "execution_count": 38
        }
      ]
    },
    {
      "cell_type": "code",
      "source": [
        "retrieved_docs"
      ],
      "metadata": {
        "colab": {
          "base_uri": "https://localhost:8080/"
        },
        "id": "WMGroW8eSSlV",
        "outputId": "ddd25b81-9831-4ea6-dccb-8d72546736ce",
        "collapsed": true
      },
      "execution_count": 39,
      "outputs": [
        {
          "output_type": "execute_result",
          "data": {
            "text/plain": [
              "[Document(metadata={'source': 'Students Guidelines.pdf', 'producer': 'PDFium', 'creator': 'PDFium', 'creationdate': 'D:20250422111550', 'page_label': '2', 'total_pages': 5, 'page': 1}, page_content='14 Open APIs \\n15 User Interface/User  Experience (UI/UX) \\n16 Networking \\n17 .NET Programming \\n18 Java Programming \\n19 Node.js \\n20 GIS Technologies \\nTotal Students : 20 \\n \\n \\n6. PLACE OF INTERNSHIP: \\n \\nThe internship will be offered at NIC, Headquarters, New Delhi and at various NIC State'),\n",
              " Document(metadata={'page': 1, 'page_label': '2', 'creationdate': 'D:20250422111550', 'creator': 'PDFium', 'source': 'Students Guidelines.pdf', 'producer': 'PDFium', 'total_pages': 5}, page_content='14 Open APIs \\n15 User Interface/User  Experience (UI/UX) \\n16 Networking \\n17 .NET Programming \\n18 Java Programming \\n19 Node.js \\n20 GIS Technologies \\nTotal Students : 20 \\n \\n \\n6. PLACE OF INTERNSHIP: \\n \\nThe internship will be offered at NIC, Headquarters, New Delhi and at various NIC State'),\n",
              " Document(metadata={'producer': 'PDFium', 'page': 1, 'creationdate': 'D:20250422111550', 'creator': 'PDFium', 'page_label': '2', 'source': 'Students Guidelines.pdf', 'total_pages': 5}, page_content='14 Open APIs \\n15 User Interface/User  Experience (UI/UX) \\n16 Networking \\n17 .NET Programming \\n18 Java Programming \\n19 Node.js \\n20 GIS Technologies \\nTotal Students : 20 \\n \\n \\n6. PLACE OF INTERNSHIP: \\n \\nThe internship will be offered at NIC, Headquarters, New Delhi and at various NIC State'),\n",
              " Document(metadata={'creationdate': 'D:20250422111550', 'page_label': '2', 'source': 'Students Guidelines.pdf', 'creator': 'PDFium', 'producer': 'PDFium', 'page': 1, 'total_pages': 5}, page_content='4. ELIGIBILITY: \\n \\n(i) Indian students from recognized universities in India who have secured at \\nleast 60% marks in the last held degree or certificate examination and  \\npursuing B.E/ B.Tech, M.E/ M.Tech/ MCA, MSc (Electronics)/ MSc(CS)/  \\nMSc(IT), DoEACC ‘B’ level shall be eligible. \\n \\n(ii) Possessing minimum qualifications  as above shall not guarantee internship  \\nin NIC. Candidates having exposure in the area of intended internship with  \\ngood academic background and having higher qualification, based on need  \\nshall be given preference.  \\nNote: The students who are in the last semester or who will pass out in  \\nsummer 2025  will not be eligible for the Internship. The following students  \\nare eligible: \\n \\nS.No. Course Pursuing Eligibility \\n1. B.E/B.Tech 3rd Year \\n2. B.E/B.Tech (lateral) 3rd Year \\n3. M.E./M.Tech./M.Sc(CS)/M.Sc(IT)  1st Year \\n4. MCA 2nd Year \\n5. Dual Degree Courses(ME/M.Tech) 4th Year \\n6. DoEACC ‘B’ level Diploma/Graduation/DoEACC ‘A’ level'),\n",
              " Document(metadata={'source': 'Students Guidelines.pdf', 'creationdate': 'D:20250422111550', 'page_label': '2', 'creator': 'PDFium', 'page': 1, 'total_pages': 5, 'producer': 'PDFium'}, page_content='4. ELIGIBILITY: \\n \\n(i) Indian students from recognized universities in India who have secured at \\nleast 60% marks in the last held degree or certificate examination and  \\npursuing B.E/ B.Tech, M.E/ M.Tech/ MCA, MSc (Electronics)/ MSc(CS)/  \\nMSc(IT), DoEACC ‘B’ level shall be eligible. \\n \\n(ii) Possessing minimum qualifications  as above shall not guarantee internship  \\nin NIC. Candidates having exposure in the area of intended internship with  \\ngood academic background and having higher qualification, based on need  \\nshall be given preference.  \\nNote: The students who are in the last semester or who will pass out in  \\nsummer 2025  will not be eligible for the Internship. The following students  \\nare eligible: \\n \\nS.No. Course Pursuing Eligibility \\n1. B.E/B.Tech 3rd Year \\n2. B.E/B.Tech (lateral) 3rd Year \\n3. M.E./M.Tech./M.Sc(CS)/M.Sc(IT)  1st Year \\n4. MCA 2nd Year \\n5. Dual Degree Courses(ME/M.Tech) 4th Year \\n6. DoEACC ‘B’ level Diploma/Graduation/DoEACC ‘A’ level'),\n",
              " Document(metadata={'page': 1, 'producer': 'PDFium', 'source': 'Students Guidelines.pdf', 'page_label': '2', 'total_pages': 5, 'creationdate': 'D:20250422111550', 'creator': 'PDFium'}, page_content='4. ELIGIBILITY: \\n \\n(i) Indian students from recognized universities in India who have secured at \\nleast 60% marks in the last held degree or certificate examination and  \\npursuing B.E/ B.Tech, M.E/ M.Tech/ MCA, MSc (Electronics)/ MSc(CS)/  \\nMSc(IT), DoEACC ‘B’ level shall be eligible. \\n \\n(ii) Possessing minimum qualifications  as above shall not guarantee internship  \\nin NIC. Candidates having exposure in the area of intended internship with  \\ngood academic background and having higher qualification, based on need  \\nshall be given preference.  \\nNote: The students who are in the last semester or who will pass out in  \\nsummer 2025  will not be eligible for the Internship. The following students  \\nare eligible: \\n \\nS.No. Course Pursuing Eligibility \\n1. B.E/B.Tech 3rd Year \\n2. B.E/B.Tech (lateral) 3rd Year \\n3. M.E./M.Tech./M.Sc(CS)/M.Sc(IT)  1st Year \\n4. MCA 2nd Year \\n5. Dual Degree Courses(ME/M.Tech) 4th Year \\n6. DoEACC ‘B’ level Diploma/Graduation/DoEACC ‘A’ level'),\n",
              " Document(metadata={'creationdate': 'D:20250422111550', 'creator': 'PDFium', 'source': 'Students Guidelines.pdf', 'page': 3, 'total_pages': 5, 'producer': 'PDFium', 'page_label': '4'}, page_content='roles and responsibilities.  \\n \\n(ix) No Intern shall interact with or represent NIC to the media (print and \\nelectronic).  \\n \\n(x) Interns will conduct themselves  professionally  in  their  relationship with  \\nNIC and the public in general. \\n \\n(xi)  Interns are required to be present at NIC premises and follow the Office  \\ntimings, unless otherwise permitted by  the Supervisor/Mentor  in writing. \\n \\n(xii)      The Intern has to make his/ her own accommodation arrangement during  \\nthe internship. \\n \\n(xiii)     Library facility at NIC is limited to referencing  only; borrowing  of \\nbooks/journals  is not extended to the Interns. \\n \\n(xiv)     In the event of unsatisfactory performance, the concerned Intern may  be \\nadvised by NIC to discontinue the project  work, before  the  completion of  the term \\nof internship.  \\n \\n \\n10. PLACEMENT: \\n \\n(i) Every batch of Interns or individual Interns, as the case may be, will have \\na Scientific/Technical Project Supervisor/Mentor from NIC.'),\n",
              " Document(metadata={'source': 'Students Guidelines.pdf', 'total_pages': 5, 'creationdate': 'D:20250422111550', 'producer': 'PDFium', 'page': 3, 'page_label': '4', 'creator': 'PDFium'}, page_content='roles and responsibilities.  \\n \\n(ix) No Intern shall interact with or represent NIC to the media (print and \\nelectronic).  \\n \\n(x) Interns will conduct themselves  professionally  in  their  relationship with  \\nNIC and the public in general. \\n \\n(xi)  Interns are required to be present at NIC premises and follow the Office  \\ntimings, unless otherwise permitted by  the Supervisor/Mentor  in writing. \\n \\n(xii)      The Intern has to make his/ her own accommodation arrangement during  \\nthe internship. \\n \\n(xiii)     Library facility at NIC is limited to referencing  only; borrowing  of \\nbooks/journals  is not extended to the Interns. \\n \\n(xiv)     In the event of unsatisfactory performance, the concerned Intern may  be \\nadvised by NIC to discontinue the project  work, before  the  completion of  the term \\nof internship.  \\n \\n \\n10. PLACEMENT: \\n \\n(i) Every batch of Interns or individual Interns, as the case may be, will have \\na Scientific/Technical Project Supervisor/Mentor from NIC.'),\n",
              " Document(metadata={'creator': 'PDFium', 'producer': 'PDFium', 'creationdate': 'D:20250422111550', 'page_label': '4', 'page': 3, 'total_pages': 5, 'source': 'Students Guidelines.pdf'}, page_content='roles and responsibilities.  \\n \\n(ix) No Intern shall interact with or represent NIC to the media (print and \\nelectronic).  \\n \\n(x) Interns will conduct themselves  professionally  in  their  relationship with  \\nNIC and the public in general. \\n \\n(xi)  Interns are required to be present at NIC premises and follow the Office  \\ntimings, unless otherwise permitted by  the Supervisor/Mentor  in writing. \\n \\n(xii)      The Intern has to make his/ her own accommodation arrangement during  \\nthe internship. \\n \\n(xiii)     Library facility at NIC is limited to referencing  only; borrowing  of \\nbooks/journals  is not extended to the Interns. \\n \\n(xiv)     In the event of unsatisfactory performance, the concerned Intern may  be \\nadvised by NIC to discontinue the project  work, before  the  completion of  the term \\nof internship.  \\n \\n \\n10. PLACEMENT: \\n \\n(i) Every batch of Interns or individual Interns, as the case may be, will have \\na Scientific/Technical Project Supervisor/Mentor from NIC.'),\n",
              " Document(metadata={'creator': 'PDFium', 'total_pages': 5, 'creationdate': 'D:20250422111550', 'page_label': '4', 'source': 'Students Guidelines.pdf', 'page': 3, 'producer': 'PDFium'}, page_content='of internship.  \\n \\n \\n10. PLACEMENT: \\n \\n(i) Every batch of Interns or individual Interns, as the case may be, will have \\na Scientific/Technical Project Supervisor/Mentor from NIC. \\n \\n(ii) The internship is neither an employment  nor an assurance  of an \\nemployment  with NIC. \\n11. SUBMISSION OF REPORT/PAPER: \\n \\n(i) Work plans and work schedules shall be developed by Supervisor/Mentor  \\nand the Interns shall invariably  adhere to the same. \\n \\n(ii) The Interns will be required to submit a Report on the work undertaken at  \\nthe end of the internship to NIC and make presentation  to group of NIC Officers. \\n \\n(iii) The project report prepared for the  Sponsoring Institution  in which the \\nIntern is enrolled and for NIC is required to be identical in all respects. \\n \\n(iv) The students must furnish a “No–Demand Certificate”  to NIC in the  \\nprescribed format after completion of project  work along with a  soft copy and')]"
            ]
          },
          "metadata": {},
          "execution_count": 39
        }
      ]
    },
    {
      "cell_type": "code",
      "source": [
        "retrieved_docs"
      ],
      "metadata": {
        "colab": {
          "base_uri": "https://localhost:8080/"
        },
        "id": "5Hn1zDQlSYy4",
        "outputId": "0e40673f-8900-4ce9-9a18-6e0e40e0f748",
        "collapsed": true
      },
      "execution_count": 40,
      "outputs": [
        {
          "output_type": "execute_result",
          "data": {
            "text/plain": [
              "[Document(metadata={'source': 'Students Guidelines.pdf', 'producer': 'PDFium', 'creator': 'PDFium', 'creationdate': 'D:20250422111550', 'page_label': '2', 'total_pages': 5, 'page': 1}, page_content='14 Open APIs \\n15 User Interface/User  Experience (UI/UX) \\n16 Networking \\n17 .NET Programming \\n18 Java Programming \\n19 Node.js \\n20 GIS Technologies \\nTotal Students : 20 \\n \\n \\n6. PLACE OF INTERNSHIP: \\n \\nThe internship will be offered at NIC, Headquarters, New Delhi and at various NIC State'),\n",
              " Document(metadata={'page': 1, 'page_label': '2', 'creationdate': 'D:20250422111550', 'creator': 'PDFium', 'source': 'Students Guidelines.pdf', 'producer': 'PDFium', 'total_pages': 5}, page_content='14 Open APIs \\n15 User Interface/User  Experience (UI/UX) \\n16 Networking \\n17 .NET Programming \\n18 Java Programming \\n19 Node.js \\n20 GIS Technologies \\nTotal Students : 20 \\n \\n \\n6. PLACE OF INTERNSHIP: \\n \\nThe internship will be offered at NIC, Headquarters, New Delhi and at various NIC State'),\n",
              " Document(metadata={'producer': 'PDFium', 'page': 1, 'creationdate': 'D:20250422111550', 'creator': 'PDFium', 'page_label': '2', 'source': 'Students Guidelines.pdf', 'total_pages': 5}, page_content='14 Open APIs \\n15 User Interface/User  Experience (UI/UX) \\n16 Networking \\n17 .NET Programming \\n18 Java Programming \\n19 Node.js \\n20 GIS Technologies \\nTotal Students : 20 \\n \\n \\n6. PLACE OF INTERNSHIP: \\n \\nThe internship will be offered at NIC, Headquarters, New Delhi and at various NIC State'),\n",
              " Document(metadata={'creationdate': 'D:20250422111550', 'page_label': '2', 'source': 'Students Guidelines.pdf', 'creator': 'PDFium', 'producer': 'PDFium', 'page': 1, 'total_pages': 5}, page_content='4. ELIGIBILITY: \\n \\n(i) Indian students from recognized universities in India who have secured at \\nleast 60% marks in the last held degree or certificate examination and  \\npursuing B.E/ B.Tech, M.E/ M.Tech/ MCA, MSc (Electronics)/ MSc(CS)/  \\nMSc(IT), DoEACC ‘B’ level shall be eligible. \\n \\n(ii) Possessing minimum qualifications  as above shall not guarantee internship  \\nin NIC. Candidates having exposure in the area of intended internship with  \\ngood academic background and having higher qualification, based on need  \\nshall be given preference.  \\nNote: The students who are in the last semester or who will pass out in  \\nsummer 2025  will not be eligible for the Internship. The following students  \\nare eligible: \\n \\nS.No. Course Pursuing Eligibility \\n1. B.E/B.Tech 3rd Year \\n2. B.E/B.Tech (lateral) 3rd Year \\n3. M.E./M.Tech./M.Sc(CS)/M.Sc(IT)  1st Year \\n4. MCA 2nd Year \\n5. Dual Degree Courses(ME/M.Tech) 4th Year \\n6. DoEACC ‘B’ level Diploma/Graduation/DoEACC ‘A’ level'),\n",
              " Document(metadata={'source': 'Students Guidelines.pdf', 'creationdate': 'D:20250422111550', 'page_label': '2', 'creator': 'PDFium', 'page': 1, 'total_pages': 5, 'producer': 'PDFium'}, page_content='4. ELIGIBILITY: \\n \\n(i) Indian students from recognized universities in India who have secured at \\nleast 60% marks in the last held degree or certificate examination and  \\npursuing B.E/ B.Tech, M.E/ M.Tech/ MCA, MSc (Electronics)/ MSc(CS)/  \\nMSc(IT), DoEACC ‘B’ level shall be eligible. \\n \\n(ii) Possessing minimum qualifications  as above shall not guarantee internship  \\nin NIC. Candidates having exposure in the area of intended internship with  \\ngood academic background and having higher qualification, based on need  \\nshall be given preference.  \\nNote: The students who are in the last semester or who will pass out in  \\nsummer 2025  will not be eligible for the Internship. The following students  \\nare eligible: \\n \\nS.No. Course Pursuing Eligibility \\n1. B.E/B.Tech 3rd Year \\n2. B.E/B.Tech (lateral) 3rd Year \\n3. M.E./M.Tech./M.Sc(CS)/M.Sc(IT)  1st Year \\n4. MCA 2nd Year \\n5. Dual Degree Courses(ME/M.Tech) 4th Year \\n6. DoEACC ‘B’ level Diploma/Graduation/DoEACC ‘A’ level'),\n",
              " Document(metadata={'page': 1, 'producer': 'PDFium', 'source': 'Students Guidelines.pdf', 'page_label': '2', 'total_pages': 5, 'creationdate': 'D:20250422111550', 'creator': 'PDFium'}, page_content='4. ELIGIBILITY: \\n \\n(i) Indian students from recognized universities in India who have secured at \\nleast 60% marks in the last held degree or certificate examination and  \\npursuing B.E/ B.Tech, M.E/ M.Tech/ MCA, MSc (Electronics)/ MSc(CS)/  \\nMSc(IT), DoEACC ‘B’ level shall be eligible. \\n \\n(ii) Possessing minimum qualifications  as above shall not guarantee internship  \\nin NIC. Candidates having exposure in the area of intended internship with  \\ngood academic background and having higher qualification, based on need  \\nshall be given preference.  \\nNote: The students who are in the last semester or who will pass out in  \\nsummer 2025  will not be eligible for the Internship. The following students  \\nare eligible: \\n \\nS.No. Course Pursuing Eligibility \\n1. B.E/B.Tech 3rd Year \\n2. B.E/B.Tech (lateral) 3rd Year \\n3. M.E./M.Tech./M.Sc(CS)/M.Sc(IT)  1st Year \\n4. MCA 2nd Year \\n5. Dual Degree Courses(ME/M.Tech) 4th Year \\n6. DoEACC ‘B’ level Diploma/Graduation/DoEACC ‘A’ level'),\n",
              " Document(metadata={'creationdate': 'D:20250422111550', 'creator': 'PDFium', 'source': 'Students Guidelines.pdf', 'page': 3, 'total_pages': 5, 'producer': 'PDFium', 'page_label': '4'}, page_content='roles and responsibilities.  \\n \\n(ix) No Intern shall interact with or represent NIC to the media (print and \\nelectronic).  \\n \\n(x) Interns will conduct themselves  professionally  in  their  relationship with  \\nNIC and the public in general. \\n \\n(xi)  Interns are required to be present at NIC premises and follow the Office  \\ntimings, unless otherwise permitted by  the Supervisor/Mentor  in writing. \\n \\n(xii)      The Intern has to make his/ her own accommodation arrangement during  \\nthe internship. \\n \\n(xiii)     Library facility at NIC is limited to referencing  only; borrowing  of \\nbooks/journals  is not extended to the Interns. \\n \\n(xiv)     In the event of unsatisfactory performance, the concerned Intern may  be \\nadvised by NIC to discontinue the project  work, before  the  completion of  the term \\nof internship.  \\n \\n \\n10. PLACEMENT: \\n \\n(i) Every batch of Interns or individual Interns, as the case may be, will have \\na Scientific/Technical Project Supervisor/Mentor from NIC.'),\n",
              " Document(metadata={'source': 'Students Guidelines.pdf', 'total_pages': 5, 'creationdate': 'D:20250422111550', 'producer': 'PDFium', 'page': 3, 'page_label': '4', 'creator': 'PDFium'}, page_content='roles and responsibilities.  \\n \\n(ix) No Intern shall interact with or represent NIC to the media (print and \\nelectronic).  \\n \\n(x) Interns will conduct themselves  professionally  in  their  relationship with  \\nNIC and the public in general. \\n \\n(xi)  Interns are required to be present at NIC premises and follow the Office  \\ntimings, unless otherwise permitted by  the Supervisor/Mentor  in writing. \\n \\n(xii)      The Intern has to make his/ her own accommodation arrangement during  \\nthe internship. \\n \\n(xiii)     Library facility at NIC is limited to referencing  only; borrowing  of \\nbooks/journals  is not extended to the Interns. \\n \\n(xiv)     In the event of unsatisfactory performance, the concerned Intern may  be \\nadvised by NIC to discontinue the project  work, before  the  completion of  the term \\nof internship.  \\n \\n \\n10. PLACEMENT: \\n \\n(i) Every batch of Interns or individual Interns, as the case may be, will have \\na Scientific/Technical Project Supervisor/Mentor from NIC.'),\n",
              " Document(metadata={'creator': 'PDFium', 'producer': 'PDFium', 'creationdate': 'D:20250422111550', 'page_label': '4', 'page': 3, 'total_pages': 5, 'source': 'Students Guidelines.pdf'}, page_content='roles and responsibilities.  \\n \\n(ix) No Intern shall interact with or represent NIC to the media (print and \\nelectronic).  \\n \\n(x) Interns will conduct themselves  professionally  in  their  relationship with  \\nNIC and the public in general. \\n \\n(xi)  Interns are required to be present at NIC premises and follow the Office  \\ntimings, unless otherwise permitted by  the Supervisor/Mentor  in writing. \\n \\n(xii)      The Intern has to make his/ her own accommodation arrangement during  \\nthe internship. \\n \\n(xiii)     Library facility at NIC is limited to referencing  only; borrowing  of \\nbooks/journals  is not extended to the Interns. \\n \\n(xiv)     In the event of unsatisfactory performance, the concerned Intern may  be \\nadvised by NIC to discontinue the project  work, before  the  completion of  the term \\nof internship.  \\n \\n \\n10. PLACEMENT: \\n \\n(i) Every batch of Interns or individual Interns, as the case may be, will have \\na Scientific/Technical Project Supervisor/Mentor from NIC.'),\n",
              " Document(metadata={'creator': 'PDFium', 'total_pages': 5, 'creationdate': 'D:20250422111550', 'page_label': '4', 'source': 'Students Guidelines.pdf', 'page': 3, 'producer': 'PDFium'}, page_content='of internship.  \\n \\n \\n10. PLACEMENT: \\n \\n(i) Every batch of Interns or individual Interns, as the case may be, will have \\na Scientific/Technical Project Supervisor/Mentor from NIC. \\n \\n(ii) The internship is neither an employment  nor an assurance  of an \\nemployment  with NIC. \\n11. SUBMISSION OF REPORT/PAPER: \\n \\n(i) Work plans and work schedules shall be developed by Supervisor/Mentor  \\nand the Interns shall invariably  adhere to the same. \\n \\n(ii) The Interns will be required to submit a Report on the work undertaken at  \\nthe end of the internship to NIC and make presentation  to group of NIC Officers. \\n \\n(iii) The project report prepared for the  Sponsoring Institution  in which the \\nIntern is enrolled and for NIC is required to be identical in all respects. \\n \\n(iv) The students must furnish a “No–Demand Certificate”  to NIC in the  \\nprescribed format after completion of project  work along with a  soft copy and')]"
            ]
          },
          "metadata": {},
          "execution_count": 40
        }
      ]
    },
    {
      "cell_type": "code",
      "source": [
        "print(retrieved_docs[5].page_content)"
      ],
      "metadata": {
        "colab": {
          "base_uri": "https://localhost:8080/"
        },
        "id": "nEBgaOO9UF9I",
        "outputId": "808a2354-4fd4-4bf2-dfaf-38ed0c16daba",
        "collapsed": true
      },
      "execution_count": 41,
      "outputs": [
        {
          "output_type": "stream",
          "name": "stdout",
          "text": [
            "4. ELIGIBILITY: \n",
            " \n",
            "(i) Indian students from recognized universities in India who have secured at \n",
            "least 60% marks in the last held degree or certificate examination and  \n",
            "pursuing B.E/ B.Tech, M.E/ M.Tech/ MCA, MSc (Electronics)/ MSc(CS)/  \n",
            "MSc(IT), DoEACC ‘B’ level shall be eligible. \n",
            " \n",
            "(ii) Possessing minimum qualifications  as above shall not guarantee internship  \n",
            "in NIC. Candidates having exposure in the area of intended internship with  \n",
            "good academic background and having higher qualification, based on need  \n",
            "shall be given preference.  \n",
            "Note: The students who are in the last semester or who will pass out in  \n",
            "summer 2025  will not be eligible for the Internship. The following students  \n",
            "are eligible: \n",
            " \n",
            "S.No. Course Pursuing Eligibility \n",
            "1. B.E/B.Tech 3rd Year \n",
            "2. B.E/B.Tech (lateral) 3rd Year \n",
            "3. M.E./M.Tech./M.Sc(CS)/M.Sc(IT)  1st Year \n",
            "4. MCA 2nd Year \n",
            "5. Dual Degree Courses(ME/M.Tech) 4th Year \n",
            "6. DoEACC ‘B’ level Diploma/Graduation/DoEACC ‘A’ level\n"
          ]
        }
      ]
    },
    {
      "cell_type": "code",
      "source": [
        "from langchain_google_genai import ChatGoogleGenerativeAI\n",
        "\n",
        "llm = ChatGoogleGenerativeAI(\n",
        "    model=\"gemini-1.5-pro\",  # Or use the correct model name if it's different\n",
        "    temperature=0.3,\n",
        "    max_tokens=500,\n",
        "    google_api_key=os.environ[\"GOOGLE_API_KEY\"]  # Pass API key for authentication\n",
        ")\n",
        "\n",
        "# Use the LLM\n",
        "prompt = \"Tell me a fun fact about space.\"\n",
        "response = llm.predict(prompt)\n",
        "print(response)"
      ],
      "metadata": {
        "colab": {
          "base_uri": "https://localhost:8080/"
        },
        "id": "dfh10SXuUQj4",
        "outputId": "99e2f228-9758-434d-8f41-ff90552dde64"
      },
      "execution_count": 42,
      "outputs": [
        {
          "output_type": "stream",
          "name": "stdout",
          "text": [
            "There are more stars in the universe than grains of sand on all the beaches on Earth.  While impossible to count precisely, astronomers estimate there are at least 100 billion trillion stars, while the estimated number of sand grains is somewhere in the octillions (a much smaller number).\n"
          ]
        }
      ]
    },
    {
      "cell_type": "code",
      "source": [
        "from langchain.chains import create_retrieval_chain\n",
        "from langchain.chains.combine_documents import create_stuff_documents_chain\n",
        "from langchain_core.prompts import ChatPromptTemplate\n"
      ],
      "metadata": {
        "id": "eg001wSTU8ZY"
      },
      "execution_count": 43,
      "outputs": []
    },
    {
      "cell_type": "code",
      "source": [
        "system_prompt = (\n",
        "    \"You are an assistant for question-answering tasks. \"\n",
        "    \"Use the following pieces of retrieved context to answer \"\n",
        "    \"the question. If you don't know the answer, say that you \"\n",
        "    \"don't know. Use three sentences maximum and keep the \"\n",
        "    \"answer concise.\"\n",
        "    \"\\n\\n\"\n",
        "    \"{context}\"\n",
        ")"
      ],
      "metadata": {
        "id": "cmsIprOsVIXG"
      },
      "execution_count": 44,
      "outputs": []
    },
    {
      "cell_type": "code",
      "source": [
        "prompt = ChatPromptTemplate.from_messages(\n",
        "    [\n",
        "        (\"system\", system_prompt),\n",
        "        (\"human\", \"{input}\"),\n",
        "    ]\n",
        ")"
      ],
      "metadata": {
        "id": "5DhUVrv-VOCY"
      },
      "execution_count": 45,
      "outputs": []
    },
    {
      "cell_type": "code",
      "source": [
        "prompt"
      ],
      "metadata": {
        "colab": {
          "base_uri": "https://localhost:8080/"
        },
        "id": "2u2qBhRMVV5v",
        "outputId": "1dfb8b1b-d8ed-4bbf-8453-035b59ec3198"
      },
      "execution_count": 46,
      "outputs": [
        {
          "output_type": "execute_result",
          "data": {
            "text/plain": [
              "ChatPromptTemplate(input_variables=['context', 'input'], input_types={}, partial_variables={}, messages=[SystemMessagePromptTemplate(prompt=PromptTemplate(input_variables=['context'], input_types={}, partial_variables={}, template=\"You are an assistant for question-answering tasks. Use the following pieces of retrieved context to answer the question. If you don't know the answer, say that you don't know. Use three sentences maximum and keep the answer concise.\\n\\n{context}\"), additional_kwargs={}), HumanMessagePromptTemplate(prompt=PromptTemplate(input_variables=['input'], input_types={}, partial_variables={}, template='{input}'), additional_kwargs={})])"
            ]
          },
          "metadata": {},
          "execution_count": 46
        }
      ]
    },
    {
      "cell_type": "code",
      "source": [
        "question_answer_chain = create_stuff_documents_chain(llm, prompt)\n",
        "rag_chain = create_retrieval_chain(retriever, question_answer_chain)\n"
      ],
      "metadata": {
        "id": "A0SFdc9BVXyv"
      },
      "execution_count": 47,
      "outputs": []
    },
    {
      "cell_type": "code",
      "source": [
        "response = rag_chain.invoke({\"input\": \"what is this internship and for what feild student can apply?\"})\n",
        "print(response[\"answer\"])"
      ],
      "metadata": {
        "colab": {
          "base_uri": "https://localhost:8080/"
        },
        "id": "8xwirf9CVvIz",
        "outputId": "2698e0db-0caf-4aa9-e3f3-c58b301b3d7e"
      },
      "execution_count": 48,
      "outputs": [
        {
          "output_type": "stream",
          "name": "stdout",
          "text": [
            "This is a Digital India Internship offered by the National Informatics Centre (NIC) for Summer 2025.  Eligible students pursuing B.E/B.Tech, M.E/M.Tech/MCA, MSc (Electronics/CS/IT), or DoEACC ‘B’ level can apply.  Internship domains include areas like Artificial Intelligence, Machine Learning, and others listed in the document.\n"
          ]
        }
      ]
    },
    {
      "cell_type": "code",
      "source": [],
      "metadata": {
        "id": "69U7Cs-JRwA-"
      },
      "execution_count": null,
      "outputs": []
    }
  ]
}