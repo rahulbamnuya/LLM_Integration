{
  "nbformat": 4,
  "nbformat_minor": 0,
  "metadata": {
    "colab": {
      "provenance": [],
      "authorship_tag": "ABX9TyO0vSjCQknev8SNQYXaed8H",
      "include_colab_link": true
    },
    "kernelspec": {
      "name": "python3",
      "display_name": "Python 3"
    },
    "language_info": {
      "name": "python"
    }
  },
  "cells": [
    {
      "cell_type": "markdown",
      "metadata": {
        "id": "view-in-github",
        "colab_type": "text"
      },
      "source": [
        "<a href=\"https://colab.research.google.com/github/rahulbamnuya/LLM_Integration/blob/main/VAE.ipynb\" target=\"_parent\"><img src=\"https://colab.research.google.com/assets/colab-badge.svg\" alt=\"Open In Colab\"/></a>"
      ]
    },
    {
      "cell_type": "code",
      "execution_count": 1,
      "metadata": {
        "colab": {
          "base_uri": "https://localhost:8080/"
        },
        "id": "iIulZyTJZHiO",
        "outputId": "2815045b-0dc7-40cf-ae27-7fe8f946ae97"
      },
      "outputs": [
        {
          "output_type": "stream",
          "name": "stdout",
          "text": [
            "Requirement already satisfied: torch in /usr/local/lib/python3.11/dist-packages (2.6.0+cu124)\n",
            "Requirement already satisfied: torchvision in /usr/local/lib/python3.11/dist-packages (0.21.0+cu124)\n",
            "Requirement already satisfied: matplotlib in /usr/local/lib/python3.11/dist-packages (3.10.0)\n",
            "Requirement already satisfied: numpy in /usr/local/lib/python3.11/dist-packages (2.0.2)\n",
            "Requirement already satisfied: filelock in /usr/local/lib/python3.11/dist-packages (from torch) (3.18.0)\n",
            "Requirement already satisfied: typing-extensions>=4.10.0 in /usr/local/lib/python3.11/dist-packages (from torch) (4.13.2)\n",
            "Requirement already satisfied: networkx in /usr/local/lib/python3.11/dist-packages (from torch) (3.4.2)\n",
            "Requirement already satisfied: jinja2 in /usr/local/lib/python3.11/dist-packages (from torch) (3.1.6)\n",
            "Requirement already satisfied: fsspec in /usr/local/lib/python3.11/dist-packages (from torch) (2025.3.2)\n",
            "Collecting nvidia-cuda-nvrtc-cu12==12.4.127 (from torch)\n",
            "  Downloading nvidia_cuda_nvrtc_cu12-12.4.127-py3-none-manylinux2014_x86_64.whl.metadata (1.5 kB)\n",
            "Collecting nvidia-cuda-runtime-cu12==12.4.127 (from torch)\n",
            "  Downloading nvidia_cuda_runtime_cu12-12.4.127-py3-none-manylinux2014_x86_64.whl.metadata (1.5 kB)\n",
            "Collecting nvidia-cuda-cupti-cu12==12.4.127 (from torch)\n",
            "  Downloading nvidia_cuda_cupti_cu12-12.4.127-py3-none-manylinux2014_x86_64.whl.metadata (1.6 kB)\n",
            "Collecting nvidia-cudnn-cu12==9.1.0.70 (from torch)\n",
            "  Downloading nvidia_cudnn_cu12-9.1.0.70-py3-none-manylinux2014_x86_64.whl.metadata (1.6 kB)\n",
            "Collecting nvidia-cublas-cu12==12.4.5.8 (from torch)\n",
            "  Downloading nvidia_cublas_cu12-12.4.5.8-py3-none-manylinux2014_x86_64.whl.metadata (1.5 kB)\n",
            "Collecting nvidia-cufft-cu12==11.2.1.3 (from torch)\n",
            "  Downloading nvidia_cufft_cu12-11.2.1.3-py3-none-manylinux2014_x86_64.whl.metadata (1.5 kB)\n",
            "Collecting nvidia-curand-cu12==10.3.5.147 (from torch)\n",
            "  Downloading nvidia_curand_cu12-10.3.5.147-py3-none-manylinux2014_x86_64.whl.metadata (1.5 kB)\n",
            "Collecting nvidia-cusolver-cu12==11.6.1.9 (from torch)\n",
            "  Downloading nvidia_cusolver_cu12-11.6.1.9-py3-none-manylinux2014_x86_64.whl.metadata (1.6 kB)\n",
            "Collecting nvidia-cusparse-cu12==12.3.1.170 (from torch)\n",
            "  Downloading nvidia_cusparse_cu12-12.3.1.170-py3-none-manylinux2014_x86_64.whl.metadata (1.6 kB)\n",
            "Requirement already satisfied: nvidia-cusparselt-cu12==0.6.2 in /usr/local/lib/python3.11/dist-packages (from torch) (0.6.2)\n",
            "Requirement already satisfied: nvidia-nccl-cu12==2.21.5 in /usr/local/lib/python3.11/dist-packages (from torch) (2.21.5)\n",
            "Requirement already satisfied: nvidia-nvtx-cu12==12.4.127 in /usr/local/lib/python3.11/dist-packages (from torch) (12.4.127)\n",
            "Collecting nvidia-nvjitlink-cu12==12.4.127 (from torch)\n",
            "  Downloading nvidia_nvjitlink_cu12-12.4.127-py3-none-manylinux2014_x86_64.whl.metadata (1.5 kB)\n",
            "Requirement already satisfied: triton==3.2.0 in /usr/local/lib/python3.11/dist-packages (from torch) (3.2.0)\n",
            "Requirement already satisfied: sympy==1.13.1 in /usr/local/lib/python3.11/dist-packages (from torch) (1.13.1)\n",
            "Requirement already satisfied: mpmath<1.4,>=1.1.0 in /usr/local/lib/python3.11/dist-packages (from sympy==1.13.1->torch) (1.3.0)\n",
            "Requirement already satisfied: pillow!=8.3.*,>=5.3.0 in /usr/local/lib/python3.11/dist-packages (from torchvision) (11.2.1)\n",
            "Requirement already satisfied: contourpy>=1.0.1 in /usr/local/lib/python3.11/dist-packages (from matplotlib) (1.3.2)\n",
            "Requirement already satisfied: cycler>=0.10 in /usr/local/lib/python3.11/dist-packages (from matplotlib) (0.12.1)\n",
            "Requirement already satisfied: fonttools>=4.22.0 in /usr/local/lib/python3.11/dist-packages (from matplotlib) (4.57.0)\n",
            "Requirement already satisfied: kiwisolver>=1.3.1 in /usr/local/lib/python3.11/dist-packages (from matplotlib) (1.4.8)\n",
            "Requirement already satisfied: packaging>=20.0 in /usr/local/lib/python3.11/dist-packages (from matplotlib) (24.2)\n",
            "Requirement already satisfied: pyparsing>=2.3.1 in /usr/local/lib/python3.11/dist-packages (from matplotlib) (3.2.3)\n",
            "Requirement already satisfied: python-dateutil>=2.7 in /usr/local/lib/python3.11/dist-packages (from matplotlib) (2.9.0.post0)\n",
            "Requirement already satisfied: six>=1.5 in /usr/local/lib/python3.11/dist-packages (from python-dateutil>=2.7->matplotlib) (1.17.0)\n",
            "Requirement already satisfied: MarkupSafe>=2.0 in /usr/local/lib/python3.11/dist-packages (from jinja2->torch) (3.0.2)\n",
            "Downloading nvidia_cublas_cu12-12.4.5.8-py3-none-manylinux2014_x86_64.whl (363.4 MB)\n",
            "\u001b[2K   \u001b[90m━━━━━━━━━━━━━━━━━━━━━━━━━━━━━━━━━━━━━━━━\u001b[0m \u001b[32m363.4/363.4 MB\u001b[0m \u001b[31m3.2 MB/s\u001b[0m eta \u001b[36m0:00:00\u001b[0m\n",
            "\u001b[?25hDownloading nvidia_cuda_cupti_cu12-12.4.127-py3-none-manylinux2014_x86_64.whl (13.8 MB)\n",
            "\u001b[2K   \u001b[90m━━━━━━━━━━━━━━━━━━━━━━━━━━━━━━━━━━━━━━━━\u001b[0m \u001b[32m13.8/13.8 MB\u001b[0m \u001b[31m20.9 MB/s\u001b[0m eta \u001b[36m0:00:00\u001b[0m\n",
            "\u001b[?25hDownloading nvidia_cuda_nvrtc_cu12-12.4.127-py3-none-manylinux2014_x86_64.whl (24.6 MB)\n",
            "\u001b[2K   \u001b[90m━━━━━━━━━━━━━━━━━━━━━━━━━━━━━━━━━━━━━━━━\u001b[0m \u001b[32m24.6/24.6 MB\u001b[0m \u001b[31m48.0 MB/s\u001b[0m eta \u001b[36m0:00:00\u001b[0m\n",
            "\u001b[?25hDownloading nvidia_cuda_runtime_cu12-12.4.127-py3-none-manylinux2014_x86_64.whl (883 kB)\n",
            "\u001b[2K   \u001b[90m━━━━━━━━━━━━━━━━━━━━━━━━━━━━━━━━━━━━━━━━\u001b[0m \u001b[32m883.7/883.7 kB\u001b[0m \u001b[31m27.3 MB/s\u001b[0m eta \u001b[36m0:00:00\u001b[0m\n",
            "\u001b[?25hDownloading nvidia_cudnn_cu12-9.1.0.70-py3-none-manylinux2014_x86_64.whl (664.8 MB)\n",
            "\u001b[2K   \u001b[90m━━━━━━━━━━━━━━━━━━━━━━━━━━━━━━━━━━━━━━━━\u001b[0m \u001b[32m664.8/664.8 MB\u001b[0m \u001b[31m2.9 MB/s\u001b[0m eta \u001b[36m0:00:00\u001b[0m\n",
            "\u001b[?25hDownloading nvidia_cufft_cu12-11.2.1.3-py3-none-manylinux2014_x86_64.whl (211.5 MB)\n",
            "\u001b[2K   \u001b[90m━━━━━━━━━━━━━━━━━━━━━━━━━━━━━━━━━━━━━━━━\u001b[0m \u001b[32m211.5/211.5 MB\u001b[0m \u001b[31m4.8 MB/s\u001b[0m eta \u001b[36m0:00:00\u001b[0m\n",
            "\u001b[?25hDownloading nvidia_curand_cu12-10.3.5.147-py3-none-manylinux2014_x86_64.whl (56.3 MB)\n",
            "\u001b[2K   \u001b[90m━━━━━━━━━━━━━━━━━━━━━━━━━━━━━━━━━━━━━━━━\u001b[0m \u001b[32m56.3/56.3 MB\u001b[0m \u001b[31m11.4 MB/s\u001b[0m eta \u001b[36m0:00:00\u001b[0m\n",
            "\u001b[?25hDownloading nvidia_cusolver_cu12-11.6.1.9-py3-none-manylinux2014_x86_64.whl (127.9 MB)\n",
            "\u001b[2K   \u001b[90m━━━━━━━━━━━━━━━━━━━━━━━━━━━━━━━━━━━━━━━━\u001b[0m \u001b[32m127.9/127.9 MB\u001b[0m \u001b[31m7.1 MB/s\u001b[0m eta \u001b[36m0:00:00\u001b[0m\n",
            "\u001b[?25hDownloading nvidia_cusparse_cu12-12.3.1.170-py3-none-manylinux2014_x86_64.whl (207.5 MB)\n",
            "\u001b[2K   \u001b[90m━━━━━━━━━━━━━━━━━━━━━━━━━━━━━━━━━━━━━━━━\u001b[0m \u001b[32m207.5/207.5 MB\u001b[0m \u001b[31m6.3 MB/s\u001b[0m eta \u001b[36m0:00:00\u001b[0m\n",
            "\u001b[?25hDownloading nvidia_nvjitlink_cu12-12.4.127-py3-none-manylinux2014_x86_64.whl (21.1 MB)\n",
            "\u001b[2K   \u001b[90m━━━━━━━━━━━━━━━━━━━━━━━━━━━━━━━━━━━━━━━━\u001b[0m \u001b[32m21.1/21.1 MB\u001b[0m \u001b[31m73.1 MB/s\u001b[0m eta \u001b[36m0:00:00\u001b[0m\n",
            "\u001b[?25hInstalling collected packages: nvidia-nvjitlink-cu12, nvidia-curand-cu12, nvidia-cufft-cu12, nvidia-cuda-runtime-cu12, nvidia-cuda-nvrtc-cu12, nvidia-cuda-cupti-cu12, nvidia-cublas-cu12, nvidia-cusparse-cu12, nvidia-cudnn-cu12, nvidia-cusolver-cu12\n",
            "  Attempting uninstall: nvidia-nvjitlink-cu12\n",
            "    Found existing installation: nvidia-nvjitlink-cu12 12.5.82\n",
            "    Uninstalling nvidia-nvjitlink-cu12-12.5.82:\n",
            "      Successfully uninstalled nvidia-nvjitlink-cu12-12.5.82\n",
            "  Attempting uninstall: nvidia-curand-cu12\n",
            "    Found existing installation: nvidia-curand-cu12 10.3.6.82\n",
            "    Uninstalling nvidia-curand-cu12-10.3.6.82:\n",
            "      Successfully uninstalled nvidia-curand-cu12-10.3.6.82\n",
            "  Attempting uninstall: nvidia-cufft-cu12\n",
            "    Found existing installation: nvidia-cufft-cu12 11.2.3.61\n",
            "    Uninstalling nvidia-cufft-cu12-11.2.3.61:\n",
            "      Successfully uninstalled nvidia-cufft-cu12-11.2.3.61\n",
            "  Attempting uninstall: nvidia-cuda-runtime-cu12\n",
            "    Found existing installation: nvidia-cuda-runtime-cu12 12.5.82\n",
            "    Uninstalling nvidia-cuda-runtime-cu12-12.5.82:\n",
            "      Successfully uninstalled nvidia-cuda-runtime-cu12-12.5.82\n",
            "  Attempting uninstall: nvidia-cuda-nvrtc-cu12\n",
            "    Found existing installation: nvidia-cuda-nvrtc-cu12 12.5.82\n",
            "    Uninstalling nvidia-cuda-nvrtc-cu12-12.5.82:\n",
            "      Successfully uninstalled nvidia-cuda-nvrtc-cu12-12.5.82\n",
            "  Attempting uninstall: nvidia-cuda-cupti-cu12\n",
            "    Found existing installation: nvidia-cuda-cupti-cu12 12.5.82\n",
            "    Uninstalling nvidia-cuda-cupti-cu12-12.5.82:\n",
            "      Successfully uninstalled nvidia-cuda-cupti-cu12-12.5.82\n",
            "  Attempting uninstall: nvidia-cublas-cu12\n",
            "    Found existing installation: nvidia-cublas-cu12 12.5.3.2\n",
            "    Uninstalling nvidia-cublas-cu12-12.5.3.2:\n",
            "      Successfully uninstalled nvidia-cublas-cu12-12.5.3.2\n",
            "  Attempting uninstall: nvidia-cusparse-cu12\n",
            "    Found existing installation: nvidia-cusparse-cu12 12.5.1.3\n",
            "    Uninstalling nvidia-cusparse-cu12-12.5.1.3:\n",
            "      Successfully uninstalled nvidia-cusparse-cu12-12.5.1.3\n",
            "  Attempting uninstall: nvidia-cudnn-cu12\n",
            "    Found existing installation: nvidia-cudnn-cu12 9.3.0.75\n",
            "    Uninstalling nvidia-cudnn-cu12-9.3.0.75:\n",
            "      Successfully uninstalled nvidia-cudnn-cu12-9.3.0.75\n",
            "  Attempting uninstall: nvidia-cusolver-cu12\n",
            "    Found existing installation: nvidia-cusolver-cu12 11.6.3.83\n",
            "    Uninstalling nvidia-cusolver-cu12-11.6.3.83:\n",
            "      Successfully uninstalled nvidia-cusolver-cu12-11.6.3.83\n",
            "Successfully installed nvidia-cublas-cu12-12.4.5.8 nvidia-cuda-cupti-cu12-12.4.127 nvidia-cuda-nvrtc-cu12-12.4.127 nvidia-cuda-runtime-cu12-12.4.127 nvidia-cudnn-cu12-9.1.0.70 nvidia-cufft-cu12-11.2.1.3 nvidia-curand-cu12-10.3.5.147 nvidia-cusolver-cu12-11.6.1.9 nvidia-cusparse-cu12-12.3.1.170 nvidia-nvjitlink-cu12-12.4.127\n"
          ]
        }
      ],
      "source": [
        "!pip install torch torchvision matplotlib numpy"
      ]
    },
    {
      "cell_type": "code",
      "source": [
        "import torch\n",
        "import torch.nn as nn\n",
        "import torch.optim as optim\n",
        "import torchvision\n",
        "import torchvision.transforms as transforms\n",
        "import matplotlib.pyplot as plt\n",
        "import numpy as np"
      ],
      "metadata": {
        "id": "CAbe0mh_ZMOz"
      },
      "execution_count": 2,
      "outputs": []
    },
    {
      "cell_type": "code",
      "source": [
        "from torchvision import datasets,transforms\n",
        "from torch.utils.data import DataLoader"
      ],
      "metadata": {
        "id": "DDp777IfZYP8"
      },
      "execution_count": 3,
      "outputs": []
    },
    {
      "cell_type": "code",
      "source": [
        "#Encoder class ,which maps input data into latent space"
      ],
      "metadata": {
        "id": "bU-xJs9qZpGk"
      },
      "execution_count": 4,
      "outputs": []
    },
    {
      "cell_type": "code",
      "source": [
        "class Encoder(nn.Module):\n",
        "  def __init__(self,input_dim,hidden_dim,laten_dim):\n",
        "    \"\"\"\n",
        "    input_dim:dimension of input data\n",
        "    hidden_dim:dimension of hidden layer\n",
        "    latent_dim:dimension of latent space\n",
        "    \"\"\"\n",
        "    super(Encoder,self).__init__()\n",
        "    #define fully connected layer\n",
        "    self.fc1=nn.Linear(input_dim,hidden_dim)\n",
        "    self.fc2_mu=nn.Linear(hidden_dim,laten_dim)\n",
        "    self.fc_logvar=nn.Linear(hidden_dim,laten_dim)\n",
        "  #define the forward pass through the encoder\n",
        "  def forward(self,x):\n",
        "    \"return mu:mean of laten space\"\n",
        "    #activation on hidden layer\n",
        "    h=torch.relu(self.fc1(x))\n",
        "    #calculate mean\n",
        "    mu=self.fc2_mu(h)\n",
        "    logvar=self.fc_logvar(h)\n",
        "    return mu,logvar\n",
        "\n"
      ],
      "metadata": {
        "id": "ftJJXHEYZ3RL"
      },
      "execution_count": 5,
      "outputs": []
    },
    {
      "cell_type": "code",
      "source": [
        "#define deoder class ,which map laten to output space\n"
      ],
      "metadata": {
        "id": "6VMcaUkOcL3I"
      },
      "execution_count": 6,
      "outputs": []
    },
    {
      "cell_type": "code",
      "source": [
        "class Decoder(nn.Module):\n",
        "  def __init__(self,laten_dim,hidden_dim,output_dim):\n",
        "    \"\"\"\n",
        "    laten_dim:dimension of latent space\n",
        "    hidden_dim:dimension of hidden layer\n",
        "    output_dim:dimension of output data\n",
        "    \"\"\"\n",
        "    super(Decoder,self).__init__()\n",
        "    #define\n",
        "    self.fc1=nn.Linear(laten_dim,hidden_dim)\n",
        "    self.fc2=nn.Linear(hidden_dim,output_dim)\n",
        "  #define forwar pass\n",
        "  def forward(self,z):\n",
        "    \"\"\"\n",
        "    define forward pass through decoder\n",
        "\n",
        "    \"\"\"\n",
        "    #apply telu activation function hodden layer\n",
        "    # Correct the typo 'troch' to 'torch'\n",
        "    h=torch.relu(self.fc1(z))\n",
        "    # Correct the typo 'troch' to 'torch' and use self.fc2\n",
        "    x_hat=torch.sigmoid(self.fc2(h))\n",
        "    return x_hat"
      ],
      "metadata": {
        "id": "lu1AunrVcQhK"
      },
      "execution_count": 15,
      "outputs": []
    },
    {
      "cell_type": "code",
      "source": [
        "#Define variation autoencoder VAE class\n",
        "class VAE(nn.Module):\n",
        "  def __init__(self,input_dim,hidden_dim,laten_dim):\n",
        "    \"\"\"\n",
        "    input_dim:dimension of input data\n",
        "    hidden_dim:dimension of hidden layer\n",
        "    latent_dim:dimension of latent space\n",
        "    \"\"\"\n",
        "    super(VAE,self).__init__()\n",
        "    #Define Encoder and Decoder instance\n",
        "    self.encoder=Encoder(input_dim,hidden_dim,laten_dim)\n",
        "    self.decoder=Decoder(laten_dim,hidden_dim,input_dim)\n",
        "  def forward(self,x):\n",
        "\n",
        "    \"\"\"\n",
        "    Define the forward pass through the VAE\n",
        "\n",
        "    \"\"\"\n",
        "    #Encode input to the laten space\n",
        "    mu,logvar=self.encoder(x)\n",
        "    #sample from laten space using representation trick\n",
        "    std=torch.exp(0.5*logvar)\n",
        "    eps=torch.randn_like(std)\n",
        "    z=mu+eps*std\n",
        "\n",
        "    #decode laten space to output space\n",
        "    x_hat=self.decoder(z)\n",
        "    return x_hat,mu,logvar"
      ],
      "metadata": {
        "id": "wWyHc-tDdkZM"
      },
      "execution_count": 8,
      "outputs": []
    },
    {
      "cell_type": "code",
      "source": [
        "def loss_function(self,x_hat,mu,logvar):\n",
        "\n",
        "\n",
        "  BCE=nn.BCELoss(reduction='sum')(x_hat,x)\n",
        "  KLD=-0.5*torch.sum(1+logvar-mu.pow(2)-logvar.exp())\n",
        "  return BCE+KLD\n"
      ],
      "metadata": {
        "id": "fiY-ICT7fj-s"
      },
      "execution_count": 9,
      "outputs": []
    },
    {
      "cell_type": "code",
      "source": [
        "input_dim=784\n",
        "hidden_dim=400\n",
        "laten_dim=20\n",
        "lr=1e-3\n",
        "batch_size=128\n",
        "epochs=10\n",
        "#Data loader\n",
        "# Correct the typo 'transfromer' to 'transforms'\n",
        "transformer = transforms.Compose([transforms.ToTensor(),\n",
        "                                   # Correct the typo 'transfrms' to 'transforms'\n",
        "                                   transforms.Lambda(lambda x:x.view(-1))])\n",
        "\n",
        "train_dataset=datasets.MNIST(root='./data',train=True,\n",
        "                            # Correct the typo 'transfromer' to 'transformer'\n",
        "                            transform=transformer,download=True)\n",
        "# Correct the typo 'dataloader' to 'DataLoader'\n",
        "train_loader=DataLoader(train_dataset,batch_size=batch_size,shuffle=True)"
      ],
      "metadata": {
        "colab": {
          "base_uri": "https://localhost:8080/"
        },
        "id": "8pQrnCjJgOiR",
        "outputId": "2a99dd68-085f-4527-97a1-97ac8a4eba9d"
      },
      "execution_count": 12,
      "outputs": [
        {
          "output_type": "stream",
          "name": "stderr",
          "text": [
            "100%|██████████| 9.91M/9.91M [00:00<00:00, 16.1MB/s]\n",
            "100%|██████████| 28.9k/28.9k [00:00<00:00, 489kB/s]\n",
            "100%|██████████| 1.65M/1.65M [00:00<00:00, 3.87MB/s]\n",
            "100%|██████████| 4.54k/4.54k [00:00<00:00, 2.71MB/s]\n"
          ]
        }
      ]
    },
    {
      "cell_type": "code",
      "source": [
        "vae=VAE(input_dim,hidden_dim,laten_dim)\n",
        "optimizer=optim.Adam(vae.parameters(),lr=lr) # Changed model.parameters() to vae.parameters()\n",
        "for epoch in range(epochs):\n",
        "  train_loss=0\n",
        "  for x,_ in train_loader:\n",
        "    x=x.view(-1,input_dim)\n",
        "    optimizer.zero_grad()\n",
        "    x_hat,mu,logvar=vae(x)\n",
        "    loss=loss_function(x,x_hat,mu,logvar) #assuming loss_function is defined elsewhere and takes these arguments\n",
        "    loss.backward()\n",
        "    optimizer.step() # Changed optimizer.steps() to optimizer.step()\n",
        "    train_loss+=loss.item() # Changed loss.items() to loss.item()\n",
        "  print(f\"Epoch {epoch+1},Loss:{train_loss/len(train_loader.dataset)}\")"
      ],
      "metadata": {
        "colab": {
          "base_uri": "https://localhost:8080/"
        },
        "id": "0K4GzqKRhGj7",
        "outputId": "4049aaca-846b-460e-8ca0-246a26357940"
      },
      "execution_count": 17,
      "outputs": [
        {
          "output_type": "stream",
          "name": "stdout",
          "text": [
            "Epoch 1,Loss:164.32552579752604\n",
            "Epoch 2,Loss:121.48931616210938\n",
            "Epoch 3,Loss:114.60619651692708\n",
            "Epoch 4,Loss:111.64362164713542\n",
            "Epoch 5,Loss:109.84396490885416\n",
            "Epoch 6,Loss:108.71975460611979\n",
            "Epoch 7,Loss:107.87033404947917\n",
            "Epoch 8,Loss:107.25044093424479\n",
            "Epoch 9,Loss:106.68741928710938\n",
            "Epoch 10,Loss:106.26545559895834\n"
          ]
        }
      ]
    },
    {
      "cell_type": "code",
      "source": [],
      "metadata": {
        "id": "uURsLr7jimg-"
      },
      "execution_count": null,
      "outputs": []
    },
    {
      "cell_type": "markdown",
      "source": [
        "testing evaluation of model"
      ],
      "metadata": {
        "id": "a1K1QUlGkPPf"
      }
    },
    {
      "cell_type": "code",
      "source": [
        "vae.eval()\n",
        "with torch.no_grad():\n",
        "    x, _ = next(iter(train_loader))\n",
        "    x = x.view(-1, input_dim)\n",
        "    x_hat, mu, logvar = vae(x)\n",
        "    x = x.view(-1, input_dim)\n",
        "    x_hat, _, _ = vae(x)\n",
        "    x = x.view(-1, 28, 28)\n",
        "    x_hat = x_hat.view(-1, 28, 28)\n",
        "    fig, axs = plt.subplots(2, 10, figsize=(15, 3))  # Restored 2 rows for original and reconstructed images\n",
        "    # Visualizing new Generation data\n",
        "    for i in range(10):\n",
        "        axs[0, i].imshow(x[i].cpu().numpy(), cmap='gray')  # Display original image in the first row\n",
        "        axs[1, i].imshow(x_hat[i].cpu().numpy(), cmap='gray')  # Display reconstructed image in the second row\n",
        "        axs[0, i].axis('off')\n",
        "        axs[1, i].axis('off')\n",
        "    plt.show()"
      ],
      "metadata": {
        "colab": {
          "base_uri": "https://localhost:8080/",
          "height": 154
        },
        "id": "c9GrNOffkRpA",
        "outputId": "cce2d145-2c58-4a95-9d52-c91d2547230b"
      },
      "execution_count": 25,
      "outputs": [
        {
          "output_type": "display_data",
          "data": {
            "text/plain": [
              "<Figure size 1500x300 with 20 Axes>"
            ],
            "image/png": "[encoded data removed]"
          },
          "metadata": {}
        }
      ]
    },
    {
      "cell_type": "code",
      "source": [
        "#encoder then reconstruct"
      ],
      "metadata": {
        "id": "8vyTuXcRlXVq"
      },
      "execution_count": 19,
      "outputs": []
    },
    {
      "cell_type": "code",
      "source": [
        "#new data generate"
      ],
      "metadata": {
        "id": "6MKMP94UltKj"
      },
      "execution_count": 20,
      "outputs": []
    },
    {
      "cell_type": "code",
      "source": [],
      "metadata": {
        "id": "rjrjV79BlutT"
      },
      "execution_count": 30,
      "outputs": []
    },
    {
      "cell_type": "code",
      "source": [
        "with torch.no_grad():\n",
        "    z = torch.randn(10, laten_dim)\n",
        "    sample = vae.decoder(z)\n",
        "    sample = sample.view(-1, 28, 28)\n",
        "    fig, axs = plt.subplots(1, 10, figsize=(15, 3))  # Changed to 1 row, 10 columns\n",
        "    for i in range(10):\n",
        "        axs[i].imshow(sample[i].cpu().numpy(), cmap='gray')  # Now using axs[i] to access individual subplot\n",
        "        axs[i].axis('off')\n",
        "    plt.show()"
      ],
      "metadata": {
        "colab": {
          "base_uri": "https://localhost:8080/",
          "height": 83
        },
        "outputId": "98f4f77d-fc25-40c7-a38a-1f4dd2c61869",
        "id": "GCe54fInnCh_"
      },
      "execution_count": 30,
      "outputs": [
        {
          "output_type": "display_data",
          "data": {
            "text/plain": [
              "<Figure size 1500x300 with 10 Axes>"
            ],
            "image/png": "[encoded data removed]"
          },
          "metadata": {}
        }
      ]
    },
    {
      "cell_type": "code",
      "source": [],
      "metadata": {
        "id": "Rg9IQrV5mTXv"
      },
      "execution_count": null,
      "outputs": []
    }
  ]
}